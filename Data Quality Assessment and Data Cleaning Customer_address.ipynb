{
 "cells": [
  {
   "cell_type": "code",
   "execution_count": 1,
   "id": "2d5e6d20",
   "metadata": {},
   "outputs": [],
   "source": [
    "import pandas as pd\n",
    "import numpy as np\n",
    "import seaborn as sns\n",
    "import matplotlib.pyplot as plt\n",
    "%matplotlib inline\n",
    "\n",
    "from datetime import datetime, date"
   ]
  },
  {
   "cell_type": "code",
   "execution_count": 2,
   "id": "acba99c2",
   "metadata": {},
   "outputs": [],
   "source": [
    "# loading the customer address data from the excel file\n",
    "\n",
    "cust_address = pd.read_excel(\"Raw_data.xlsx\", sheet_name=\"CustomerAddress\")"
   ]
  },
  {
   "cell_type": "code",
   "execution_count": 3,
   "id": "29c04fe0",
   "metadata": {},
   "outputs": [
    {
     "data": {
      "text/html": [
       "<div>\n",
       "<style scoped>\n",
       "    .dataframe tbody tr th:only-of-type {\n",
       "        vertical-align: middle;\n",
       "    }\n",
       "\n",
       "    .dataframe tbody tr th {\n",
       "        vertical-align: top;\n",
       "    }\n",
       "\n",
       "    .dataframe thead th {\n",
       "        text-align: right;\n",
       "    }\n",
       "</style>\n",
       "<table border=\"1\" class=\"dataframe\">\n",
       "  <thead>\n",
       "    <tr style=\"text-align: right;\">\n",
       "      <th></th>\n",
       "      <th>customer_id</th>\n",
       "      <th>address</th>\n",
       "      <th>postcode</th>\n",
       "      <th>state</th>\n",
       "      <th>country</th>\n",
       "      <th>property_valuation</th>\n",
       "    </tr>\n",
       "  </thead>\n",
       "  <tbody>\n",
       "    <tr>\n",
       "      <th>0</th>\n",
       "      <td>1</td>\n",
       "      <td>060 Morning Avenue</td>\n",
       "      <td>2016</td>\n",
       "      <td>New South Wales</td>\n",
       "      <td>Australia</td>\n",
       "      <td>10</td>\n",
       "    </tr>\n",
       "    <tr>\n",
       "      <th>1</th>\n",
       "      <td>2</td>\n",
       "      <td>6 Meadow Vale Court</td>\n",
       "      <td>2153</td>\n",
       "      <td>New South Wales</td>\n",
       "      <td>Australia</td>\n",
       "      <td>10</td>\n",
       "    </tr>\n",
       "    <tr>\n",
       "      <th>2</th>\n",
       "      <td>4</td>\n",
       "      <td>0 Holy Cross Court</td>\n",
       "      <td>4211</td>\n",
       "      <td>QLD</td>\n",
       "      <td>Australia</td>\n",
       "      <td>9</td>\n",
       "    </tr>\n",
       "    <tr>\n",
       "      <th>3</th>\n",
       "      <td>5</td>\n",
       "      <td>17979 Del Mar Point</td>\n",
       "      <td>2448</td>\n",
       "      <td>New South Wales</td>\n",
       "      <td>Australia</td>\n",
       "      <td>4</td>\n",
       "    </tr>\n",
       "    <tr>\n",
       "      <th>4</th>\n",
       "      <td>6</td>\n",
       "      <td>9 Oakridge Court</td>\n",
       "      <td>3216</td>\n",
       "      <td>VIC</td>\n",
       "      <td>Australia</td>\n",
       "      <td>9</td>\n",
       "    </tr>\n",
       "  </tbody>\n",
       "</table>\n",
       "</div>"
      ],
      "text/plain": [
       "   customer_id              address  postcode            state    country  \\\n",
       "0            1   060 Morning Avenue      2016  New South Wales  Australia   \n",
       "1            2  6 Meadow Vale Court      2153  New South Wales  Australia   \n",
       "2            4   0 Holy Cross Court      4211              QLD  Australia   \n",
       "3            5  17979 Del Mar Point      2448  New South Wales  Australia   \n",
       "4            6     9 Oakridge Court      3216              VIC  Australia   \n",
       "\n",
       "   property_valuation  \n",
       "0                  10  \n",
       "1                  10  \n",
       "2                   9  \n",
       "3                   4  \n",
       "4                   9  "
      ]
     },
     "execution_count": 3,
     "metadata": {},
     "output_type": "execute_result"
    }
   ],
   "source": [
    "# CHecking the first  rows of the dataset\n",
    "\n",
    "cust_address.head()"
   ]
  },
  {
   "cell_type": "code",
   "execution_count": 4,
   "id": "0f04165d",
   "metadata": {},
   "outputs": [
    {
     "name": "stdout",
     "output_type": "stream",
     "text": [
      "<class 'pandas.core.frame.DataFrame'>\n",
      "RangeIndex: 3999 entries, 0 to 3998\n",
      "Data columns (total 6 columns):\n",
      " #   Column              Non-Null Count  Dtype \n",
      "---  ------              --------------  ----- \n",
      " 0   customer_id         3999 non-null   int64 \n",
      " 1   address             3999 non-null   object\n",
      " 2   postcode            3999 non-null   int64 \n",
      " 3   state               3999 non-null   object\n",
      " 4   country             3999 non-null   object\n",
      " 5   property_valuation  3999 non-null   int64 \n",
      "dtypes: int64(3), object(3)\n",
      "memory usage: 187.6+ KB\n"
     ]
    }
   ],
   "source": [
    "# Checking the Information about the dataset\n",
    "\n",
    "cust_address.info()"
   ]
  },
  {
   "cell_type": "markdown",
   "id": "8ee5e87d",
   "metadata": {},
   "source": [
    "Looking at the info we see that there are no null values present in the dataset and the dataset have 3 numerical and 3non numerical attribute."
   ]
  },
  {
   "cell_type": "markdown",
   "id": "4944ec95",
   "metadata": {},
   "source": [
    "As we can see the datatype is fine. Now lets check the data Quality and apply some data cleaning process on the data set."
   ]
  },
  {
   "cell_type": "markdown",
   "id": "3d10cd98",
   "metadata": {},
   "source": [
    "# Total Records"
   ]
  },
  {
   "cell_type": "code",
   "execution_count": 5,
   "id": "d7ae2b33",
   "metadata": {},
   "outputs": [
    {
     "name": "stdout",
     "output_type": "stream",
     "text": [
      "Total number of rows : 3999\n",
      "Total number of Columns : 6\n"
     ]
    }
   ],
   "source": [
    "print(f\"Total number of rows : {cust_address.shape[0]}\")\n",
    "print(f\"Total number of Columns : {cust_address.shape[1]}\")"
   ]
  },
  {
   "cell_type": "markdown",
   "id": "0f5d6865",
   "metadata": {},
   "source": [
    "# Numerical Columns and Non-numercial Columns"
   ]
  },
  {
   "cell_type": "code",
   "execution_count": 6,
   "id": "b4d275fd",
   "metadata": {},
   "outputs": [
    {
     "name": "stdout",
     "output_type": "stream",
     "text": [
      "This are the numeric columns : ['customer_id' 'postcode' 'property_valuation']\n",
      "This are the non-numeric columns : ['address' 'state' 'country']\n"
     ]
    }
   ],
   "source": [
    "# Checking for numerical columns\n",
    "df_numeric_col = cust_address.select_dtypes(include=[np.number])\n",
    "numeric_col = df_numeric_col.columns.values\n",
    "print(f\"This are the numeric columns : {numeric_col}\")\n",
    "\n",
    "df_non_numeric_col = cust_address.select_dtypes(exclude=[np.number])\n",
    "non_numeric_col = df_non_numeric_col.columns.values\n",
    "print(f\"This are the non-numeric columns : {non_numeric_col}\")\n"
   ]
  },
  {
   "cell_type": "markdown",
   "id": "99d82977",
   "metadata": {},
   "source": [
    "# Missing Values Check"
   ]
  },
  {
   "cell_type": "markdown",
   "id": "312c31da",
   "metadata": {},
   "source": [
    "Checking if there is any missing values available in the Dataset. If there are any missing value available in the column then based on the situation we have to either drop those records or impute those columns with missing values."
   ]
  },
  {
   "cell_type": "code",
   "execution_count": 7,
   "id": "e45dc14b",
   "metadata": {},
   "outputs": [
    {
     "data": {
      "text/plain": [
       "customer_id           0\n",
       "address               0\n",
       "postcode              0\n",
       "state                 0\n",
       "country               0\n",
       "property_valuation    0\n",
       "dtype: int64"
      ]
     },
     "execution_count": 7,
     "metadata": {},
     "output_type": "execute_result"
    }
   ],
   "source": [
    "# Total Number of Missing values in the Columns\n",
    "\n",
    "cust_address.isna().sum()"
   ]
  },
  {
   "cell_type": "markdown",
   "id": "4751dcda",
   "metadata": {},
   "source": [
    "As we can see that there is no missing value available in the data set"
   ]
  },
  {
   "cell_type": "markdown",
   "id": "0d871726",
   "metadata": {},
   "source": [
    "# 2. Inconsistency check in the dataset"
   ]
  },
  {
   "cell_type": "markdown",
   "id": "f9be0974",
   "metadata": {},
   "source": [
    "We will have a inconsistency check in the data set. We will see if there is any typo error/ inconsistent data available in the data set. The columns which need to be check are columns <b> address, postal code, state, country. </b>"
   ]
  },
  {
   "cell_type": "markdown",
   "id": "88c86acf",
   "metadata": {},
   "source": [
    "### 2.1 State"
   ]
  },
  {
   "cell_type": "code",
   "execution_count": 8,
   "id": "559cbe59",
   "metadata": {},
   "outputs": [
    {
     "data": {
      "text/plain": [
       "state\n",
       "NSW                2054\n",
       "VIC                 939\n",
       "QLD                 838\n",
       "New South Wales      86\n",
       "Victoria             82\n",
       "Name: count, dtype: int64"
      ]
     },
     "execution_count": 8,
     "metadata": {},
     "output_type": "execute_result"
    }
   ],
   "source": [
    "cust_address.state.value_counts()"
   ]
  },
  {
   "cell_type": "markdown",
   "id": "6524a91c",
   "metadata": {},
   "source": [
    "Here we can see that there is inconsistency in state column. Which means the data present have two value which represent same state."
   ]
  },
  {
   "cell_type": "code",
   "execution_count": 9,
   "id": "58aae054",
   "metadata": {},
   "outputs": [],
   "source": [
    "# creating a function for replace the state  name\n",
    "\n",
    "def replace_state_name(state_name):\n",
    "    \n",
    "    if state_name == \"New South Wales\":\n",
    "        return \"NSW\"\n",
    "    elif state_name == \"Victoria\":\n",
    "        return \"VIC\"\n",
    "    else:\n",
    "        return state_name\n",
    "    \n",
    "\n",
    "#Applying the above function to state column\n",
    "\n",
    "cust_address[\"state\"] = cust_address[\"state\"].apply(replace_state_name)"
   ]
  },
  {
   "cell_type": "markdown",
   "id": "9b07c5b6",
   "metadata": {},
   "source": [
    "        After applying the replace state function there is no dubplicacy in the dataset"
   ]
  },
  {
   "cell_type": "code",
   "execution_count": 11,
   "id": "a5fd7301",
   "metadata": {},
   "outputs": [
    {
     "data": {
      "text/plain": [
       "state\n",
       "NSW    2140\n",
       "VIC    1021\n",
       "QLD     838\n",
       "Name: count, dtype: int64"
      ]
     },
     "execution_count": 11,
     "metadata": {},
     "output_type": "execute_result"
    }
   ],
   "source": [
    "cust_address.state.value_counts()"
   ]
  },
  {
   "cell_type": "markdown",
   "id": "672b5561",
   "metadata": {},
   "source": [
    "### 2.2 Country"
   ]
  },
  {
   "cell_type": "code",
   "execution_count": 13,
   "id": "8eec0b30",
   "metadata": {},
   "outputs": [
    {
     "data": {
      "text/plain": [
       "country\n",
       "Australia    3999\n",
       "Name: count, dtype: int64"
      ]
     },
     "execution_count": 13,
     "metadata": {},
     "output_type": "execute_result"
    }
   ],
   "source": [
    "cust_address[\"country\"].value_counts()"
   ]
  },
  {
   "cell_type": "markdown",
   "id": "b9216a71",
   "metadata": {},
   "source": [
    "There is no consistency in the Country Columns"
   ]
  },
  {
   "cell_type": "markdown",
   "id": "d0389ef0",
   "metadata": {},
   "source": [
    "### 2.3 Postal code"
   ]
  },
  {
   "cell_type": "code",
   "execution_count": 16,
   "id": "a48af9b7",
   "metadata": {},
   "outputs": [
    {
     "data": {
      "text/html": [
       "<div>\n",
       "<style scoped>\n",
       "    .dataframe tbody tr th:only-of-type {\n",
       "        vertical-align: middle;\n",
       "    }\n",
       "\n",
       "    .dataframe tbody tr th {\n",
       "        vertical-align: top;\n",
       "    }\n",
       "\n",
       "    .dataframe thead th {\n",
       "        text-align: right;\n",
       "    }\n",
       "</style>\n",
       "<table border=\"1\" class=\"dataframe\">\n",
       "  <thead>\n",
       "    <tr style=\"text-align: right;\">\n",
       "      <th></th>\n",
       "      <th>address</th>\n",
       "      <th>postcode</th>\n",
       "      <th>state</th>\n",
       "      <th>country</th>\n",
       "    </tr>\n",
       "  </thead>\n",
       "  <tbody>\n",
       "    <tr>\n",
       "      <th>0</th>\n",
       "      <td>060 Morning Avenue</td>\n",
       "      <td>2016</td>\n",
       "      <td>NSW</td>\n",
       "      <td>Australia</td>\n",
       "    </tr>\n",
       "    <tr>\n",
       "      <th>1</th>\n",
       "      <td>6 Meadow Vale Court</td>\n",
       "      <td>2153</td>\n",
       "      <td>NSW</td>\n",
       "      <td>Australia</td>\n",
       "    </tr>\n",
       "    <tr>\n",
       "      <th>2</th>\n",
       "      <td>0 Holy Cross Court</td>\n",
       "      <td>4211</td>\n",
       "      <td>QLD</td>\n",
       "      <td>Australia</td>\n",
       "    </tr>\n",
       "    <tr>\n",
       "      <th>3</th>\n",
       "      <td>17979 Del Mar Point</td>\n",
       "      <td>2448</td>\n",
       "      <td>NSW</td>\n",
       "      <td>Australia</td>\n",
       "    </tr>\n",
       "    <tr>\n",
       "      <th>4</th>\n",
       "      <td>9 Oakridge Court</td>\n",
       "      <td>3216</td>\n",
       "      <td>VIC</td>\n",
       "      <td>Australia</td>\n",
       "    </tr>\n",
       "    <tr>\n",
       "      <th>...</th>\n",
       "      <td>...</td>\n",
       "      <td>...</td>\n",
       "      <td>...</td>\n",
       "      <td>...</td>\n",
       "    </tr>\n",
       "    <tr>\n",
       "      <th>3994</th>\n",
       "      <td>1482 Hauk Trail</td>\n",
       "      <td>3064</td>\n",
       "      <td>VIC</td>\n",
       "      <td>Australia</td>\n",
       "    </tr>\n",
       "    <tr>\n",
       "      <th>3995</th>\n",
       "      <td>57042 Village Green Point</td>\n",
       "      <td>4511</td>\n",
       "      <td>QLD</td>\n",
       "      <td>Australia</td>\n",
       "    </tr>\n",
       "    <tr>\n",
       "      <th>3996</th>\n",
       "      <td>87 Crescent Oaks Alley</td>\n",
       "      <td>2756</td>\n",
       "      <td>NSW</td>\n",
       "      <td>Australia</td>\n",
       "    </tr>\n",
       "    <tr>\n",
       "      <th>3997</th>\n",
       "      <td>8194 Lien Street</td>\n",
       "      <td>4032</td>\n",
       "      <td>QLD</td>\n",
       "      <td>Australia</td>\n",
       "    </tr>\n",
       "    <tr>\n",
       "      <th>3998</th>\n",
       "      <td>320 Acker Drive</td>\n",
       "      <td>2251</td>\n",
       "      <td>NSW</td>\n",
       "      <td>Australia</td>\n",
       "    </tr>\n",
       "  </tbody>\n",
       "</table>\n",
       "<p>3999 rows × 4 columns</p>\n",
       "</div>"
      ],
      "text/plain": [
       "                        address  postcode state    country\n",
       "0            060 Morning Avenue      2016   NSW  Australia\n",
       "1           6 Meadow Vale Court      2153   NSW  Australia\n",
       "2            0 Holy Cross Court      4211   QLD  Australia\n",
       "3           17979 Del Mar Point      2448   NSW  Australia\n",
       "4              9 Oakridge Court      3216   VIC  Australia\n",
       "...                         ...       ...   ...        ...\n",
       "3994            1482 Hauk Trail      3064   VIC  Australia\n",
       "3995  57042 Village Green Point      4511   QLD  Australia\n",
       "3996     87 Crescent Oaks Alley      2756   NSW  Australia\n",
       "3997           8194 Lien Street      4032   QLD  Australia\n",
       "3998            320 Acker Drive      2251   NSW  Australia\n",
       "\n",
       "[3999 rows x 4 columns]"
      ]
     },
     "execution_count": 16,
     "metadata": {},
     "output_type": "execute_result"
    }
   ],
   "source": [
    "cust_address[[\"address\", \"postcode\", \"state\", \"country\"]].drop_duplicates()"
   ]
  },
  {
   "cell_type": "markdown",
   "id": "9d5a59b5",
   "metadata": {},
   "source": [
    "There is no inconsistency / typo error in the dataset."
   ]
  },
  {
   "cell_type": "markdown",
   "id": "4cf44d8b",
   "metadata": {},
   "source": [
    "### 3. Duplication check"
   ]
  },
  {
   "cell_type": "markdown",
   "id": "ec28d11c",
   "metadata": {},
   "source": [
    "We need to ensure that there is no duplicate values available in the data. This may lead to errors in data analysis due to poor quality. If there are duplicate rows then we have to drop such records.\n",
    "For checking the duplicate records we need to firstly drop the duplicate values in the customer_id by applying drop_duplicates()"
   ]
  },
  {
   "cell_type": "code",
   "execution_count": 21,
   "id": "540adf86",
   "metadata": {},
   "outputs": [
    {
     "name": "stdout",
     "output_type": "stream",
     "text": [
      "Number of records after removing customer_id duplicate : 3999\n",
      "Number of records before removing customer_id duplicate : 3999\n"
     ]
    }
   ],
   "source": [
    "# Dropping the primary key column i.e. customer_id and storing into a temporary dataframe.\n",
    "\n",
    "cust_address_dupped = cust_address.drop(\"customer_id\",axis=1).drop_duplicates()\n",
    "\n",
    "print(f\"Number of records after removing customer_id duplicate : {cust_address_dupped.shape[0]}\")\n",
    "print(f\"Number of records before removing customer_id duplicate : {cust_address.shape[0]}\")\n"
   ]
  },
  {
   "cell_type": "markdown",
   "id": "9fd2274b",
   "metadata": {},
   "source": [
    "<b> Since both the numbers are matching that means there is no duplication in the dataset. </b>"
   ]
  },
  {
   "cell_type": "markdown",
   "id": "ae7aa300",
   "metadata": {},
   "source": [
    "## 4. Exporting the Cleaned Customer Address Data Set to csv"
   ]
  },
  {
   "cell_type": "code",
   "execution_count": 22,
   "id": "88b8a6f2",
   "metadata": {},
   "outputs": [],
   "source": [
    "cust_address.to_csv(\"CutomerAddress_cleaned.csv\",index=False)"
   ]
  },
  {
   "cell_type": "code",
   "execution_count": null,
   "id": "6ffe7b57",
   "metadata": {},
   "outputs": [],
   "source": []
  },
  {
   "cell_type": "code",
   "execution_count": null,
   "id": "d8e68387",
   "metadata": {},
   "outputs": [],
   "source": []
  },
  {
   "cell_type": "code",
   "execution_count": null,
   "id": "793e8e6e",
   "metadata": {},
   "outputs": [],
   "source": []
  },
  {
   "cell_type": "code",
   "execution_count": null,
   "id": "471623bf",
   "metadata": {},
   "outputs": [],
   "source": []
  },
  {
   "cell_type": "code",
   "execution_count": null,
   "id": "7ae765ed",
   "metadata": {},
   "outputs": [],
   "source": []
  },
  {
   "cell_type": "code",
   "execution_count": null,
   "id": "3686b847",
   "metadata": {},
   "outputs": [],
   "source": []
  },
  {
   "cell_type": "code",
   "execution_count": null,
   "id": "72836474",
   "metadata": {},
   "outputs": [],
   "source": []
  },
  {
   "cell_type": "code",
   "execution_count": null,
   "id": "441f294f",
   "metadata": {},
   "outputs": [],
   "source": []
  },
  {
   "cell_type": "code",
   "execution_count": null,
   "id": "7c6b2b23",
   "metadata": {},
   "outputs": [],
   "source": []
  },
  {
   "cell_type": "code",
   "execution_count": null,
   "id": "df013b75",
   "metadata": {},
   "outputs": [],
   "source": []
  },
  {
   "cell_type": "code",
   "execution_count": null,
   "id": "94b5e2e1",
   "metadata": {},
   "outputs": [],
   "source": []
  },
  {
   "cell_type": "code",
   "execution_count": null,
   "id": "aa5ff873",
   "metadata": {},
   "outputs": [],
   "source": []
  },
  {
   "cell_type": "code",
   "execution_count": null,
   "id": "70a70cf3",
   "metadata": {},
   "outputs": [],
   "source": []
  },
  {
   "cell_type": "code",
   "execution_count": null,
   "id": "5f65cf56",
   "metadata": {},
   "outputs": [],
   "source": []
  },
  {
   "cell_type": "code",
   "execution_count": null,
   "id": "f4d6744c",
   "metadata": {},
   "outputs": [],
   "source": []
  },
  {
   "cell_type": "code",
   "execution_count": null,
   "id": "d890bade",
   "metadata": {},
   "outputs": [],
   "source": []
  },
  {
   "cell_type": "code",
   "execution_count": null,
   "id": "0c340e9c",
   "metadata": {},
   "outputs": [],
   "source": []
  },
  {
   "cell_type": "code",
   "execution_count": null,
   "id": "6ea7bfc0",
   "metadata": {},
   "outputs": [],
   "source": []
  },
  {
   "cell_type": "code",
   "execution_count": null,
   "id": "e5c5add8",
   "metadata": {},
   "outputs": [],
   "source": []
  },
  {
   "cell_type": "code",
   "execution_count": null,
   "id": "96510fca",
   "metadata": {},
   "outputs": [],
   "source": []
  },
  {
   "cell_type": "code",
   "execution_count": null,
   "id": "1e21b74a",
   "metadata": {},
   "outputs": [],
   "source": []
  },
  {
   "cell_type": "code",
   "execution_count": null,
   "id": "454eba42",
   "metadata": {},
   "outputs": [],
   "source": []
  }
 ],
 "metadata": {
  "kernelspec": {
   "display_name": "Python 3 (ipykernel)",
   "language": "python",
   "name": "python3"
  },
  "language_info": {
   "codemirror_mode": {
    "name": "ipython",
    "version": 3
   },
   "file_extension": ".py",
   "mimetype": "text/x-python",
   "name": "python",
   "nbconvert_exporter": "python",
   "pygments_lexer": "ipython3",
   "version": "3.9.13"
  }
 },
 "nbformat": 4,
 "nbformat_minor": 5
}
