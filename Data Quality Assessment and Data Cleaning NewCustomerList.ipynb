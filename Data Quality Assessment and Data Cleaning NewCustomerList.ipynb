{
 "cells": [
  {
   "cell_type": "code",
   "execution_count": 1,
   "id": "c020becb",
   "metadata": {},
   "outputs": [],
   "source": [
    "import math\n",
    "import pandas as pd\n",
    "import numpy as np\n",
    "import matplotlib.pyplot as plt\n",
    "import seaborn as sns\n",
    "%matplotlib inline\n",
    "\n",
    "from datetime import datetime, date"
   ]
  },
  {
   "cell_type": "code",
   "execution_count": 2,
   "id": "04cb36f0",
   "metadata": {},
   "outputs": [
    {
     "name": "stderr",
     "output_type": "stream",
     "text": [
      "C:\\Users\\Rakesh Rao\\AppData\\Local\\Temp\\ipykernel_14244\\2422742102.py:2: FutureWarning: Inferring datetime64[ns] from data containing strings is deprecated and will be removed in a future version. To retain the old behavior explicitly pass Series(data, dtype=datetime64[ns])\n",
      "  new_cust = pd.read_excel(\"Raw_data.xlsx\",sheet_name=\"NewCustomerList\")\n"
     ]
    }
   ],
   "source": [
    "# Loading the data in the Data frame.\n",
    "new_cust = pd.read_excel(\"Raw_data.xlsx\",sheet_name=\"NewCustomerList\")"
   ]
  },
  {
   "cell_type": "code",
   "execution_count": 3,
   "id": "9ad954eb",
   "metadata": {},
   "outputs": [
    {
     "data": {
      "text/html": [
       "<div>\n",
       "<style scoped>\n",
       "    .dataframe tbody tr th:only-of-type {\n",
       "        vertical-align: middle;\n",
       "    }\n",
       "\n",
       "    .dataframe tbody tr th {\n",
       "        vertical-align: top;\n",
       "    }\n",
       "\n",
       "    .dataframe thead th {\n",
       "        text-align: right;\n",
       "    }\n",
       "</style>\n",
       "<table border=\"1\" class=\"dataframe\">\n",
       "  <thead>\n",
       "    <tr style=\"text-align: right;\">\n",
       "      <th></th>\n",
       "      <th>first_name</th>\n",
       "      <th>last_name</th>\n",
       "      <th>gender</th>\n",
       "      <th>past_3_years_bike_related_purchases</th>\n",
       "      <th>DOB</th>\n",
       "      <th>job_title</th>\n",
       "      <th>job_industry_category</th>\n",
       "      <th>wealth_segment</th>\n",
       "      <th>deceased_indicator</th>\n",
       "      <th>owns_car</th>\n",
       "      <th>...</th>\n",
       "      <th>state</th>\n",
       "      <th>country</th>\n",
       "      <th>property_valuation</th>\n",
       "      <th>Unnamed: 16</th>\n",
       "      <th>Unnamed: 17</th>\n",
       "      <th>Unnamed: 18</th>\n",
       "      <th>Unnamed: 19</th>\n",
       "      <th>Unnamed: 20</th>\n",
       "      <th>Rank</th>\n",
       "      <th>Value</th>\n",
       "    </tr>\n",
       "  </thead>\n",
       "  <tbody>\n",
       "    <tr>\n",
       "      <th>0</th>\n",
       "      <td>Chickie</td>\n",
       "      <td>Brister</td>\n",
       "      <td>Male</td>\n",
       "      <td>86</td>\n",
       "      <td>1957-07-12</td>\n",
       "      <td>General Manager</td>\n",
       "      <td>Manufacturing</td>\n",
       "      <td>Mass Customer</td>\n",
       "      <td>N</td>\n",
       "      <td>Yes</td>\n",
       "      <td>...</td>\n",
       "      <td>QLD</td>\n",
       "      <td>Australia</td>\n",
       "      <td>6</td>\n",
       "      <td>0.42</td>\n",
       "      <td>0.525</td>\n",
       "      <td>0.65625</td>\n",
       "      <td>0.557812</td>\n",
       "      <td>1</td>\n",
       "      <td>1</td>\n",
       "      <td>1.718750</td>\n",
       "    </tr>\n",
       "    <tr>\n",
       "      <th>1</th>\n",
       "      <td>Morly</td>\n",
       "      <td>Genery</td>\n",
       "      <td>Male</td>\n",
       "      <td>69</td>\n",
       "      <td>1970-03-22</td>\n",
       "      <td>Structural Engineer</td>\n",
       "      <td>Property</td>\n",
       "      <td>Mass Customer</td>\n",
       "      <td>N</td>\n",
       "      <td>No</td>\n",
       "      <td>...</td>\n",
       "      <td>NSW</td>\n",
       "      <td>Australia</td>\n",
       "      <td>11</td>\n",
       "      <td>0.98</td>\n",
       "      <td>0.980</td>\n",
       "      <td>1.22500</td>\n",
       "      <td>1.041250</td>\n",
       "      <td>1</td>\n",
       "      <td>1</td>\n",
       "      <td>1.718750</td>\n",
       "    </tr>\n",
       "    <tr>\n",
       "      <th>2</th>\n",
       "      <td>Ardelis</td>\n",
       "      <td>Forrester</td>\n",
       "      <td>Female</td>\n",
       "      <td>10</td>\n",
       "      <td>1974-08-28</td>\n",
       "      <td>Senior Cost Accountant</td>\n",
       "      <td>Financial Services</td>\n",
       "      <td>Affluent Customer</td>\n",
       "      <td>N</td>\n",
       "      <td>No</td>\n",
       "      <td>...</td>\n",
       "      <td>VIC</td>\n",
       "      <td>Australia</td>\n",
       "      <td>5</td>\n",
       "      <td>0.59</td>\n",
       "      <td>0.590</td>\n",
       "      <td>0.59000</td>\n",
       "      <td>0.590000</td>\n",
       "      <td>1</td>\n",
       "      <td>1</td>\n",
       "      <td>1.718750</td>\n",
       "    </tr>\n",
       "    <tr>\n",
       "      <th>3</th>\n",
       "      <td>Lucine</td>\n",
       "      <td>Stutt</td>\n",
       "      <td>Female</td>\n",
       "      <td>64</td>\n",
       "      <td>1979-01-28</td>\n",
       "      <td>Account Representative III</td>\n",
       "      <td>Manufacturing</td>\n",
       "      <td>Affluent Customer</td>\n",
       "      <td>N</td>\n",
       "      <td>Yes</td>\n",
       "      <td>...</td>\n",
       "      <td>QLD</td>\n",
       "      <td>Australia</td>\n",
       "      <td>1</td>\n",
       "      <td>0.44</td>\n",
       "      <td>0.550</td>\n",
       "      <td>0.55000</td>\n",
       "      <td>0.550000</td>\n",
       "      <td>4</td>\n",
       "      <td>4</td>\n",
       "      <td>1.703125</td>\n",
       "    </tr>\n",
       "    <tr>\n",
       "      <th>4</th>\n",
       "      <td>Melinda</td>\n",
       "      <td>Hadlee</td>\n",
       "      <td>Female</td>\n",
       "      <td>34</td>\n",
       "      <td>1965-09-21</td>\n",
       "      <td>Financial Analyst</td>\n",
       "      <td>Financial Services</td>\n",
       "      <td>Affluent Customer</td>\n",
       "      <td>N</td>\n",
       "      <td>No</td>\n",
       "      <td>...</td>\n",
       "      <td>NSW</td>\n",
       "      <td>Australia</td>\n",
       "      <td>9</td>\n",
       "      <td>1.04</td>\n",
       "      <td>1.040</td>\n",
       "      <td>1.30000</td>\n",
       "      <td>1.300000</td>\n",
       "      <td>4</td>\n",
       "      <td>4</td>\n",
       "      <td>1.703125</td>\n",
       "    </tr>\n",
       "  </tbody>\n",
       "</table>\n",
       "<p>5 rows × 23 columns</p>\n",
       "</div>"
      ],
      "text/plain": [
       "  first_name  last_name  gender  past_3_years_bike_related_purchases  \\\n",
       "0    Chickie    Brister    Male                                   86   \n",
       "1      Morly     Genery    Male                                   69   \n",
       "2    Ardelis  Forrester  Female                                   10   \n",
       "3     Lucine      Stutt  Female                                   64   \n",
       "4    Melinda     Hadlee  Female                                   34   \n",
       "\n",
       "         DOB                   job_title job_industry_category  \\\n",
       "0 1957-07-12             General Manager         Manufacturing   \n",
       "1 1970-03-22         Structural Engineer              Property   \n",
       "2 1974-08-28      Senior Cost Accountant    Financial Services   \n",
       "3 1979-01-28  Account Representative III         Manufacturing   \n",
       "4 1965-09-21           Financial Analyst    Financial Services   \n",
       "\n",
       "      wealth_segment deceased_indicator owns_car  ...  state    country  \\\n",
       "0      Mass Customer                  N      Yes  ...    QLD  Australia   \n",
       "1      Mass Customer                  N       No  ...    NSW  Australia   \n",
       "2  Affluent Customer                  N       No  ...    VIC  Australia   \n",
       "3  Affluent Customer                  N      Yes  ...    QLD  Australia   \n",
       "4  Affluent Customer                  N       No  ...    NSW  Australia   \n",
       "\n",
       "   property_valuation Unnamed: 16 Unnamed: 17  Unnamed: 18  Unnamed: 19  \\\n",
       "0                   6        0.42       0.525      0.65625     0.557812   \n",
       "1                  11        0.98       0.980      1.22500     1.041250   \n",
       "2                   5        0.59       0.590      0.59000     0.590000   \n",
       "3                   1        0.44       0.550      0.55000     0.550000   \n",
       "4                   9        1.04       1.040      1.30000     1.300000   \n",
       "\n",
       "   Unnamed: 20  Rank     Value  \n",
       "0            1     1  1.718750  \n",
       "1            1     1  1.718750  \n",
       "2            1     1  1.718750  \n",
       "3            4     4  1.703125  \n",
       "4            4     4  1.703125  \n",
       "\n",
       "[5 rows x 23 columns]"
      ]
     },
     "execution_count": 3,
     "metadata": {},
     "output_type": "execute_result"
    }
   ],
   "source": [
    "# checking the first five values\n",
    "\n",
    "new_cust.head()"
   ]
  },
  {
   "cell_type": "code",
   "execution_count": 4,
   "id": "0e9484d9",
   "metadata": {},
   "outputs": [
    {
     "name": "stdout",
     "output_type": "stream",
     "text": [
      "<class 'pandas.core.frame.DataFrame'>\n",
      "RangeIndex: 1000 entries, 0 to 999\n",
      "Data columns (total 23 columns):\n",
      " #   Column                               Non-Null Count  Dtype         \n",
      "---  ------                               --------------  -----         \n",
      " 0   first_name                           1000 non-null   object        \n",
      " 1   last_name                            971 non-null    object        \n",
      " 2   gender                               1000 non-null   object        \n",
      " 3   past_3_years_bike_related_purchases  1000 non-null   int64         \n",
      " 4   DOB                                  983 non-null    datetime64[ns]\n",
      " 5   job_title                            894 non-null    object        \n",
      " 6   job_industry_category                835 non-null    object        \n",
      " 7   wealth_segment                       1000 non-null   object        \n",
      " 8   deceased_indicator                   1000 non-null   object        \n",
      " 9   owns_car                             1000 non-null   object        \n",
      " 10  tenure                               1000 non-null   int64         \n",
      " 11  address                              1000 non-null   object        \n",
      " 12  postcode                             1000 non-null   int64         \n",
      " 13  state                                1000 non-null   object        \n",
      " 14  country                              1000 non-null   object        \n",
      " 15  property_valuation                   1000 non-null   int64         \n",
      " 16  Unnamed: 16                          1000 non-null   float64       \n",
      " 17  Unnamed: 17                          1000 non-null   float64       \n",
      " 18  Unnamed: 18                          1000 non-null   float64       \n",
      " 19  Unnamed: 19                          1000 non-null   float64       \n",
      " 20  Unnamed: 20                          1000 non-null   int64         \n",
      " 21  Rank                                 1000 non-null   int64         \n",
      " 22  Value                                1000 non-null   float64       \n",
      "dtypes: datetime64[ns](1), float64(5), int64(6), object(11)\n",
      "memory usage: 179.8+ KB\n"
     ]
    }
   ],
   "source": [
    "# information on the columns and the data in the new_cust data frame.\n",
    "\n",
    "new_cust.info()"
   ]
  },
  {
   "cell_type": "markdown",
   "id": "ff625a1e",
   "metadata": {},
   "source": [
    "As per the observation There are some missing values in the following data.<b>\"Last_name\", \"DOB\", \"job_title\", \"job_industry_category\" <b>\n",
    "\n",
    "And there are some unnamed columns in the table which needs to be rectify."
   ]
  },
  {
   "cell_type": "code",
   "execution_count": 5,
   "id": "56036a08",
   "metadata": {},
   "outputs": [
    {
     "name": "stdout",
     "output_type": "stream",
     "text": [
      "Total Records : 1000\n",
      "Total Columns : 23\n"
     ]
    }
   ],
   "source": [
    "print(f\"Total Records : {new_cust.shape[0]}\")\n",
    "print(f\"Total Columns : {new_cust.shape[1]}\")"
   ]
  },
  {
   "cell_type": "markdown",
   "id": "f7b7d47d",
   "metadata": {},
   "source": [
    "###### Numerical records"
   ]
  },
  {
   "cell_type": "code",
   "execution_count": 6,
   "id": "7d3f9254",
   "metadata": {},
   "outputs": [
    {
     "name": "stdout",
     "output_type": "stream",
     "text": [
      "['past_3_years_bike_related_purchases' 'tenure' 'postcode'\n",
      " 'property_valuation' 'Unnamed: 16' 'Unnamed: 17' 'Unnamed: 18'\n",
      " 'Unnamed: 19' 'Unnamed: 20' 'Rank' 'Value']\n",
      "\n",
      "['first_name' 'last_name' 'gender' 'DOB' 'job_title'\n",
      " 'job_industry_category' 'wealth_segment' 'deceased_indicator' 'owns_car'\n",
      " 'address' 'state' 'country']\n"
     ]
    }
   ],
   "source": [
    "numerical_records = new_cust.select_dtypes(include=[np.number])\n",
    "numeric_columns = numerical_records.columns.values\n",
    "\n",
    "non_numerical_record = new_cust.select_dtypes(exclude=[np.number])\n",
    "non_numeric_columns = non_numerical_record.columns.values\n",
    "\n",
    "\n",
    "print(numeric_columns)\n",
    "print('')\n",
    "print(non_numeric_columns)"
   ]
  },
  {
   "cell_type": "markdown",
   "id": "5195ba18",
   "metadata": {},
   "source": [
    "## Dropping Irrelevant Columns"
   ]
  },
  {
   "cell_type": "code",
   "execution_count": 7,
   "id": "2a62b486",
   "metadata": {},
   "outputs": [],
   "source": [
    "new_cust.drop(labels=['Unnamed: 16','Unnamed: 17','Unnamed: 18','Unnamed: 19','Unnamed: 20'],inplace=True,axis=1)"
   ]
  },
  {
   "cell_type": "code",
   "execution_count": 8,
   "id": "2eb00d24",
   "metadata": {},
   "outputs": [
    {
     "data": {
      "text/plain": [
       "Index(['first_name', 'last_name', 'gender',\n",
       "       'past_3_years_bike_related_purchases', 'DOB', 'job_title',\n",
       "       'job_industry_category', 'wealth_segment', 'deceased_indicator',\n",
       "       'owns_car', 'tenure', 'address', 'postcode', 'state', 'country',\n",
       "       'property_valuation', 'Rank', 'Value'],\n",
       "      dtype='object')"
      ]
     },
     "execution_count": 8,
     "metadata": {},
     "output_type": "execute_result"
    }
   ],
   "source": [
    "new_cust.columns"
   ]
  },
  {
   "cell_type": "markdown",
   "id": "76f55bff",
   "metadata": {},
   "source": [
    "## 2. Missing Values in the data"
   ]
  },
  {
   "cell_type": "code",
   "execution_count": 9,
   "id": "eb30afce",
   "metadata": {},
   "outputs": [
    {
     "data": {
      "text/plain": [
       "first_name                               0\n",
       "last_name                               29\n",
       "gender                                   0\n",
       "past_3_years_bike_related_purchases      0\n",
       "DOB                                     17\n",
       "job_title                              106\n",
       "job_industry_category                  165\n",
       "wealth_segment                           0\n",
       "deceased_indicator                       0\n",
       "owns_car                                 0\n",
       "tenure                                   0\n",
       "address                                  0\n",
       "postcode                                 0\n",
       "state                                    0\n",
       "country                                  0\n",
       "property_valuation                       0\n",
       "Rank                                     0\n",
       "Value                                    0\n",
       "dtype: int64"
      ]
     },
     "execution_count": 9,
     "metadata": {},
     "output_type": "execute_result"
    }
   ],
   "source": [
    "# checking the count of missing values\n",
    "\n",
    "new_cust.isnull().sum()"
   ]
  },
  {
   "cell_type": "code",
   "execution_count": 10,
   "id": "c22527ec",
   "metadata": {},
   "outputs": [
    {
     "data": {
      "text/plain": [
       "first_name                              0.0\n",
       "last_name                               2.9\n",
       "gender                                  0.0\n",
       "past_3_years_bike_related_purchases     0.0\n",
       "DOB                                     1.7\n",
       "job_title                              10.6\n",
       "job_industry_category                  16.5\n",
       "wealth_segment                          0.0\n",
       "deceased_indicator                      0.0\n",
       "owns_car                                0.0\n",
       "tenure                                  0.0\n",
       "address                                 0.0\n",
       "postcode                                0.0\n",
       "state                                   0.0\n",
       "country                                 0.0\n",
       "property_valuation                      0.0\n",
       "Rank                                    0.0\n",
       "Value                                   0.0\n",
       "dtype: float64"
      ]
     },
     "execution_count": 10,
     "metadata": {},
     "output_type": "execute_result"
    }
   ],
   "source": [
    "# converting the same into percentage\n",
    "\n",
    "new_cust.isnull().mean()*100"
   ]
  },
  {
   "cell_type": "markdown",
   "id": "3d95c268",
   "metadata": {},
   "source": [
    "It is observed that the highest percentage of missing values is in job_title and job_industry_category. Rest last_name and DOB have less missing values."
   ]
  },
  {
   "cell_type": "markdown",
   "id": "6436ea83",
   "metadata": {},
   "source": [
    "## 2.1 Last Name"
   ]
  },
  {
   "cell_type": "code",
   "execution_count": 11,
   "id": "8fcb6c6b",
   "metadata": {},
   "outputs": [
    {
     "data": {
      "text/plain": [
       "first_name    0\n",
       "dtype: int64"
      ]
     },
     "execution_count": 11,
     "metadata": {},
     "output_type": "execute_result"
    }
   ],
   "source": [
    "new_cust[new_cust['last_name'].isnull()][['first_name']].isnull().sum()"
   ]
  },
  {
   "cell_type": "markdown",
   "id": "f7f846e1",
   "metadata": {},
   "source": [
    "Since we can see there are no null values in the frist name where the last name is null. So we can fill the null values with None."
   ]
  },
  {
   "cell_type": "code",
   "execution_count": 12,
   "id": "ac2100e7",
   "metadata": {},
   "outputs": [
    {
     "data": {
      "text/html": [
       "<div>\n",
       "<style scoped>\n",
       "    .dataframe tbody tr th:only-of-type {\n",
       "        vertical-align: middle;\n",
       "    }\n",
       "\n",
       "    .dataframe tbody tr th {\n",
       "        vertical-align: top;\n",
       "    }\n",
       "\n",
       "    .dataframe thead th {\n",
       "        text-align: right;\n",
       "    }\n",
       "</style>\n",
       "<table border=\"1\" class=\"dataframe\">\n",
       "  <thead>\n",
       "    <tr style=\"text-align: right;\">\n",
       "      <th></th>\n",
       "      <th>first_name</th>\n",
       "      <th>last_name</th>\n",
       "      <th>gender</th>\n",
       "      <th>past_3_years_bike_related_purchases</th>\n",
       "      <th>DOB</th>\n",
       "      <th>job_title</th>\n",
       "      <th>job_industry_category</th>\n",
       "      <th>wealth_segment</th>\n",
       "      <th>deceased_indicator</th>\n",
       "      <th>owns_car</th>\n",
       "      <th>tenure</th>\n",
       "      <th>address</th>\n",
       "      <th>postcode</th>\n",
       "      <th>state</th>\n",
       "      <th>country</th>\n",
       "      <th>property_valuation</th>\n",
       "      <th>Rank</th>\n",
       "      <th>Value</th>\n",
       "    </tr>\n",
       "  </thead>\n",
       "  <tbody>\n",
       "    <tr>\n",
       "      <th>12</th>\n",
       "      <td>Olag</td>\n",
       "      <td>None</td>\n",
       "      <td>Male</td>\n",
       "      <td>60</td>\n",
       "      <td>1990-05-13</td>\n",
       "      <td>Human Resources Manager</td>\n",
       "      <td>Telecommunications</td>\n",
       "      <td>Mass Customer</td>\n",
       "      <td>N</td>\n",
       "      <td>No</td>\n",
       "      <td>9</td>\n",
       "      <td>0484 North Avenue</td>\n",
       "      <td>2032</td>\n",
       "      <td>NSW</td>\n",
       "      <td>Australia</td>\n",
       "      <td>11</td>\n",
       "      <td>13</td>\n",
       "      <td>1.609375</td>\n",
       "    </tr>\n",
       "    <tr>\n",
       "      <th>58</th>\n",
       "      <td>Whittaker</td>\n",
       "      <td>None</td>\n",
       "      <td>Male</td>\n",
       "      <td>64</td>\n",
       "      <td>1966-07-29</td>\n",
       "      <td>Media Manager III</td>\n",
       "      <td>NaN</td>\n",
       "      <td>Mass Customer</td>\n",
       "      <td>N</td>\n",
       "      <td>Yes</td>\n",
       "      <td>8</td>\n",
       "      <td>683 Florence Way</td>\n",
       "      <td>3156</td>\n",
       "      <td>VIC</td>\n",
       "      <td>Australia</td>\n",
       "      <td>5</td>\n",
       "      <td>57</td>\n",
       "      <td>1.375000</td>\n",
       "    </tr>\n",
       "    <tr>\n",
       "      <th>87</th>\n",
       "      <td>Kahaleel</td>\n",
       "      <td>None</td>\n",
       "      <td>Male</td>\n",
       "      <td>5</td>\n",
       "      <td>1942-11-01</td>\n",
       "      <td>GIS Technical Architect</td>\n",
       "      <td>NaN</td>\n",
       "      <td>High Net Worth</td>\n",
       "      <td>N</td>\n",
       "      <td>No</td>\n",
       "      <td>13</td>\n",
       "      <td>12 Arapahoe Park</td>\n",
       "      <td>2035</td>\n",
       "      <td>NSW</td>\n",
       "      <td>Australia</td>\n",
       "      <td>12</td>\n",
       "      <td>88</td>\n",
       "      <td>1.314844</td>\n",
       "    </tr>\n",
       "    <tr>\n",
       "      <th>155</th>\n",
       "      <td>Bill</td>\n",
       "      <td>None</td>\n",
       "      <td>Female</td>\n",
       "      <td>74</td>\n",
       "      <td>1963-04-24</td>\n",
       "      <td>Human Resources Assistant II</td>\n",
       "      <td>Property</td>\n",
       "      <td>Mass Customer</td>\n",
       "      <td>N</td>\n",
       "      <td>Yes</td>\n",
       "      <td>19</td>\n",
       "      <td>6704 Pine View Lane</td>\n",
       "      <td>2170</td>\n",
       "      <td>NSW</td>\n",
       "      <td>Australia</td>\n",
       "      <td>9</td>\n",
       "      <td>155</td>\n",
       "      <td>1.200000</td>\n",
       "    </tr>\n",
       "    <tr>\n",
       "      <th>202</th>\n",
       "      <td>Glyn</td>\n",
       "      <td>None</td>\n",
       "      <td>Male</td>\n",
       "      <td>47</td>\n",
       "      <td>1945-02-13</td>\n",
       "      <td>General Manager</td>\n",
       "      <td>Manufacturing</td>\n",
       "      <td>Affluent Customer</td>\n",
       "      <td>N</td>\n",
       "      <td>Yes</td>\n",
       "      <td>21</td>\n",
       "      <td>67 Bluejay Plaza</td>\n",
       "      <td>2300</td>\n",
       "      <td>NSW</td>\n",
       "      <td>Australia</td>\n",
       "      <td>9</td>\n",
       "      <td>202</td>\n",
       "      <td>1.140625</td>\n",
       "    </tr>\n",
       "    <tr>\n",
       "      <th>326</th>\n",
       "      <td>Haleigh</td>\n",
       "      <td>None</td>\n",
       "      <td>Female</td>\n",
       "      <td>17</td>\n",
       "      <td>1952-05-19</td>\n",
       "      <td>Senior Sales Associate</td>\n",
       "      <td>Financial Services</td>\n",
       "      <td>Mass Customer</td>\n",
       "      <td>N</td>\n",
       "      <td>Yes</td>\n",
       "      <td>18</td>\n",
       "      <td>49 Jana Point</td>\n",
       "      <td>4503</td>\n",
       "      <td>QLD</td>\n",
       "      <td>Australia</td>\n",
       "      <td>4</td>\n",
       "      <td>326</td>\n",
       "      <td>1.009375</td>\n",
       "    </tr>\n",
       "    <tr>\n",
       "      <th>330</th>\n",
       "      <td>Alon</td>\n",
       "      <td>None</td>\n",
       "      <td>Male</td>\n",
       "      <td>17</td>\n",
       "      <td>1999-06-23</td>\n",
       "      <td>Accountant IV</td>\n",
       "      <td>NaN</td>\n",
       "      <td>Affluent Customer</td>\n",
       "      <td>N</td>\n",
       "      <td>No</td>\n",
       "      <td>9</td>\n",
       "      <td>770 Crest Line Parkway</td>\n",
       "      <td>4218</td>\n",
       "      <td>QLD</td>\n",
       "      <td>Australia</td>\n",
       "      <td>3</td>\n",
       "      <td>329</td>\n",
       "      <td>1.000000</td>\n",
       "    </tr>\n",
       "    <tr>\n",
       "      <th>357</th>\n",
       "      <td>Otis</td>\n",
       "      <td>None</td>\n",
       "      <td>Male</td>\n",
       "      <td>59</td>\n",
       "      <td>1971-01-11</td>\n",
       "      <td>Electrical Engineer</td>\n",
       "      <td>Manufacturing</td>\n",
       "      <td>Affluent Customer</td>\n",
       "      <td>N</td>\n",
       "      <td>No</td>\n",
       "      <td>12</td>\n",
       "      <td>04 Oakridge Plaza</td>\n",
       "      <td>2075</td>\n",
       "      <td>NSW</td>\n",
       "      <td>Australia</td>\n",
       "      <td>11</td>\n",
       "      <td>358</td>\n",
       "      <td>0.980000</td>\n",
       "    </tr>\n",
       "    <tr>\n",
       "      <th>419</th>\n",
       "      <td>Sherill</td>\n",
       "      <td>None</td>\n",
       "      <td>Female</td>\n",
       "      <td>33</td>\n",
       "      <td>1991-12-18</td>\n",
       "      <td>Information Systems Manager</td>\n",
       "      <td>Financial Services</td>\n",
       "      <td>Mass Customer</td>\n",
       "      <td>N</td>\n",
       "      <td>No</td>\n",
       "      <td>3</td>\n",
       "      <td>53 Moulton Avenue</td>\n",
       "      <td>2880</td>\n",
       "      <td>NSW</td>\n",
       "      <td>Australia</td>\n",
       "      <td>1</td>\n",
       "      <td>420</td>\n",
       "      <td>0.913750</td>\n",
       "    </tr>\n",
       "    <tr>\n",
       "      <th>442</th>\n",
       "      <td>Theresina</td>\n",
       "      <td>None</td>\n",
       "      <td>Female</td>\n",
       "      <td>30</td>\n",
       "      <td>1987-03-01</td>\n",
       "      <td>General Manager</td>\n",
       "      <td>Argiculture</td>\n",
       "      <td>Mass Customer</td>\n",
       "      <td>N</td>\n",
       "      <td>Yes</td>\n",
       "      <td>14</td>\n",
       "      <td>253 Katie Junction</td>\n",
       "      <td>2650</td>\n",
       "      <td>NSW</td>\n",
       "      <td>Australia</td>\n",
       "      <td>2</td>\n",
       "      <td>441</td>\n",
       "      <td>0.901000</td>\n",
       "    </tr>\n",
       "    <tr>\n",
       "      <th>455</th>\n",
       "      <td>Laurena</td>\n",
       "      <td>None</td>\n",
       "      <td>Female</td>\n",
       "      <td>21</td>\n",
       "      <td>1961-07-31</td>\n",
       "      <td>VP Sales</td>\n",
       "      <td>NaN</td>\n",
       "      <td>High Net Worth</td>\n",
       "      <td>N</td>\n",
       "      <td>No</td>\n",
       "      <td>10</td>\n",
       "      <td>7 Messerschmidt Crossing</td>\n",
       "      <td>3810</td>\n",
       "      <td>VIC</td>\n",
       "      <td>Australia</td>\n",
       "      <td>6</td>\n",
       "      <td>455</td>\n",
       "      <td>0.892500</td>\n",
       "    </tr>\n",
       "    <tr>\n",
       "      <th>474</th>\n",
       "      <td>Laurie</td>\n",
       "      <td>None</td>\n",
       "      <td>Male</td>\n",
       "      <td>31</td>\n",
       "      <td>1979-07-28</td>\n",
       "      <td>Assistant Media Planner</td>\n",
       "      <td>Entertainment</td>\n",
       "      <td>Mass Customer</td>\n",
       "      <td>N</td>\n",
       "      <td>Yes</td>\n",
       "      <td>15</td>\n",
       "      <td>94 Barby Lane</td>\n",
       "      <td>2210</td>\n",
       "      <td>NSW</td>\n",
       "      <td>Australia</td>\n",
       "      <td>10</td>\n",
       "      <td>475</td>\n",
       "      <td>0.881875</td>\n",
       "    </tr>\n",
       "    <tr>\n",
       "      <th>477</th>\n",
       "      <td>Blondie</td>\n",
       "      <td>None</td>\n",
       "      <td>Female</td>\n",
       "      <td>43</td>\n",
       "      <td>1995-10-03</td>\n",
       "      <td>Actuary</td>\n",
       "      <td>Financial Services</td>\n",
       "      <td>High Net Worth</td>\n",
       "      <td>N</td>\n",
       "      <td>No</td>\n",
       "      <td>11</td>\n",
       "      <td>780 Norway Maple Hill</td>\n",
       "      <td>2565</td>\n",
       "      <td>NSW</td>\n",
       "      <td>Australia</td>\n",
       "      <td>8</td>\n",
       "      <td>478</td>\n",
       "      <td>0.880000</td>\n",
       "    </tr>\n",
       "    <tr>\n",
       "      <th>484</th>\n",
       "      <td>Georgi</td>\n",
       "      <td>None</td>\n",
       "      <td>Male</td>\n",
       "      <td>29</td>\n",
       "      <td>1970-01-14</td>\n",
       "      <td>Assistant Manager</td>\n",
       "      <td>Manufacturing</td>\n",
       "      <td>High Net Worth</td>\n",
       "      <td>N</td>\n",
       "      <td>No</td>\n",
       "      <td>11</td>\n",
       "      <td>59 Garrison Terrace</td>\n",
       "      <td>3215</td>\n",
       "      <td>VIC</td>\n",
       "      <td>Australia</td>\n",
       "      <td>4</td>\n",
       "      <td>485</td>\n",
       "      <td>0.875500</td>\n",
       "    </tr>\n",
       "    <tr>\n",
       "      <th>487</th>\n",
       "      <td>Lucien</td>\n",
       "      <td>None</td>\n",
       "      <td>Male</td>\n",
       "      <td>83</td>\n",
       "      <td>1966-09-14</td>\n",
       "      <td>NaN</td>\n",
       "      <td>Financial Services</td>\n",
       "      <td>High Net Worth</td>\n",
       "      <td>N</td>\n",
       "      <td>Yes</td>\n",
       "      <td>19</td>\n",
       "      <td>777 Fairfield Court</td>\n",
       "      <td>4305</td>\n",
       "      <td>QLD</td>\n",
       "      <td>Australia</td>\n",
       "      <td>3</td>\n",
       "      <td>486</td>\n",
       "      <td>0.875000</td>\n",
       "    </tr>\n",
       "    <tr>\n",
       "      <th>494</th>\n",
       "      <td>Park</td>\n",
       "      <td>None</td>\n",
       "      <td>Male</td>\n",
       "      <td>39</td>\n",
       "      <td>1977-11-08</td>\n",
       "      <td>Nurse Practicioner</td>\n",
       "      <td>IT</td>\n",
       "      <td>Affluent Customer</td>\n",
       "      <td>N</td>\n",
       "      <td>No</td>\n",
       "      <td>14</td>\n",
       "      <td>07 Boyd Drive</td>\n",
       "      <td>4350</td>\n",
       "      <td>QLD</td>\n",
       "      <td>Australia</td>\n",
       "      <td>7</td>\n",
       "      <td>495</td>\n",
       "      <td>0.863281</td>\n",
       "    </tr>\n",
       "    <tr>\n",
       "      <th>502</th>\n",
       "      <td>Cariotta</td>\n",
       "      <td>None</td>\n",
       "      <td>Female</td>\n",
       "      <td>10</td>\n",
       "      <td>1974-08-19</td>\n",
       "      <td>Assistant Media Planner</td>\n",
       "      <td>Entertainment</td>\n",
       "      <td>Affluent Customer</td>\n",
       "      <td>N</td>\n",
       "      <td>Yes</td>\n",
       "      <td>17</td>\n",
       "      <td>2336 Continental Point</td>\n",
       "      <td>2527</td>\n",
       "      <td>NSW</td>\n",
       "      <td>Australia</td>\n",
       "      <td>7</td>\n",
       "      <td>502</td>\n",
       "      <td>0.858500</td>\n",
       "    </tr>\n",
       "    <tr>\n",
       "      <th>531</th>\n",
       "      <td>Amabel</td>\n",
       "      <td>None</td>\n",
       "      <td>Female</td>\n",
       "      <td>71</td>\n",
       "      <td>1981-09-14</td>\n",
       "      <td>Chief Design Engineer</td>\n",
       "      <td>Financial Services</td>\n",
       "      <td>Mass Customer</td>\n",
       "      <td>N</td>\n",
       "      <td>Yes</td>\n",
       "      <td>9</td>\n",
       "      <td>3128 Mallory Pass</td>\n",
       "      <td>2144</td>\n",
       "      <td>NSW</td>\n",
       "      <td>Australia</td>\n",
       "      <td>6</td>\n",
       "      <td>530</td>\n",
       "      <td>0.828750</td>\n",
       "    </tr>\n",
       "    <tr>\n",
       "      <th>586</th>\n",
       "      <td>Raynard</td>\n",
       "      <td>None</td>\n",
       "      <td>Male</td>\n",
       "      <td>32</td>\n",
       "      <td>1996-04-13</td>\n",
       "      <td>Statistician III</td>\n",
       "      <td>Health</td>\n",
       "      <td>Affluent Customer</td>\n",
       "      <td>N</td>\n",
       "      <td>No</td>\n",
       "      <td>14</td>\n",
       "      <td>20187 Loomis Court</td>\n",
       "      <td>4132</td>\n",
       "      <td>QLD</td>\n",
       "      <td>Australia</td>\n",
       "      <td>6</td>\n",
       "      <td>587</td>\n",
       "      <td>0.786250</td>\n",
       "    </tr>\n",
       "    <tr>\n",
       "      <th>616</th>\n",
       "      <td>Mariette</td>\n",
       "      <td>None</td>\n",
       "      <td>Female</td>\n",
       "      <td>47</td>\n",
       "      <td>1956-07-05</td>\n",
       "      <td>Programmer II</td>\n",
       "      <td>Property</td>\n",
       "      <td>Affluent Customer</td>\n",
       "      <td>N</td>\n",
       "      <td>Yes</td>\n",
       "      <td>17</td>\n",
       "      <td>770 Farmco Point</td>\n",
       "      <td>2049</td>\n",
       "      <td>NSW</td>\n",
       "      <td>Australia</td>\n",
       "      <td>11</td>\n",
       "      <td>617</td>\n",
       "      <td>0.754375</td>\n",
       "    </tr>\n",
       "    <tr>\n",
       "      <th>755</th>\n",
       "      <td>Darb</td>\n",
       "      <td>None</td>\n",
       "      <td>Male</td>\n",
       "      <td>80</td>\n",
       "      <td>1969-06-04</td>\n",
       "      <td>Food Chemist</td>\n",
       "      <td>Health</td>\n",
       "      <td>Affluent Customer</td>\n",
       "      <td>N</td>\n",
       "      <td>No</td>\n",
       "      <td>10</td>\n",
       "      <td>780 Bonner Pass</td>\n",
       "      <td>4034</td>\n",
       "      <td>QLD</td>\n",
       "      <td>Australia</td>\n",
       "      <td>5</td>\n",
       "      <td>755</td>\n",
       "      <td>0.640000</td>\n",
       "    </tr>\n",
       "    <tr>\n",
       "      <th>767</th>\n",
       "      <td>Simonette</td>\n",
       "      <td>None</td>\n",
       "      <td>Female</td>\n",
       "      <td>4</td>\n",
       "      <td>1990-04-06</td>\n",
       "      <td>VP Product Management</td>\n",
       "      <td>Manufacturing</td>\n",
       "      <td>Affluent Customer</td>\n",
       "      <td>N</td>\n",
       "      <td>Yes</td>\n",
       "      <td>6</td>\n",
       "      <td>66 Hoffman Court</td>\n",
       "      <td>2232</td>\n",
       "      <td>NSW</td>\n",
       "      <td>Australia</td>\n",
       "      <td>8</td>\n",
       "      <td>760</td>\n",
       "      <td>0.637500</td>\n",
       "    </tr>\n",
       "    <tr>\n",
       "      <th>779</th>\n",
       "      <td>Ashleigh</td>\n",
       "      <td>None</td>\n",
       "      <td>Female</td>\n",
       "      <td>46</td>\n",
       "      <td>1996-04-05</td>\n",
       "      <td>Budget/Accounting Analyst III</td>\n",
       "      <td>NaN</td>\n",
       "      <td>Mass Customer</td>\n",
       "      <td>N</td>\n",
       "      <td>Yes</td>\n",
       "      <td>6</td>\n",
       "      <td>922 Utah Avenue</td>\n",
       "      <td>3204</td>\n",
       "      <td>VIC</td>\n",
       "      <td>Australia</td>\n",
       "      <td>12</td>\n",
       "      <td>780</td>\n",
       "      <td>0.624219</td>\n",
       "    </tr>\n",
       "    <tr>\n",
       "      <th>786</th>\n",
       "      <td>Fey</td>\n",
       "      <td>None</td>\n",
       "      <td>Female</td>\n",
       "      <td>48</td>\n",
       "      <td>1957-09-04</td>\n",
       "      <td>Research Nurse</td>\n",
       "      <td>Health</td>\n",
       "      <td>High Net Worth</td>\n",
       "      <td>N</td>\n",
       "      <td>Yes</td>\n",
       "      <td>11</td>\n",
       "      <td>77 Paget Park</td>\n",
       "      <td>3147</td>\n",
       "      <td>VIC</td>\n",
       "      <td>Australia</td>\n",
       "      <td>12</td>\n",
       "      <td>786</td>\n",
       "      <td>0.616250</td>\n",
       "    </tr>\n",
       "    <tr>\n",
       "      <th>813</th>\n",
       "      <td>Dmitri</td>\n",
       "      <td>None</td>\n",
       "      <td>Male</td>\n",
       "      <td>72</td>\n",
       "      <td>1991-02-06</td>\n",
       "      <td>NaN</td>\n",
       "      <td>Financial Services</td>\n",
       "      <td>High Net Worth</td>\n",
       "      <td>N</td>\n",
       "      <td>Yes</td>\n",
       "      <td>15</td>\n",
       "      <td>4 Mallory Pass</td>\n",
       "      <td>3690</td>\n",
       "      <td>VIC</td>\n",
       "      <td>Australia</td>\n",
       "      <td>4</td>\n",
       "      <td>810</td>\n",
       "      <td>0.587500</td>\n",
       "    </tr>\n",
       "    <tr>\n",
       "      <th>839</th>\n",
       "      <td>Ginger</td>\n",
       "      <td>None</td>\n",
       "      <td>Male</td>\n",
       "      <td>94</td>\n",
       "      <td>1939-02-19</td>\n",
       "      <td>Human Resources Manager</td>\n",
       "      <td>NaN</td>\n",
       "      <td>Mass Customer</td>\n",
       "      <td>N</td>\n",
       "      <td>No</td>\n",
       "      <td>11</td>\n",
       "      <td>160 Fremont Point</td>\n",
       "      <td>2259</td>\n",
       "      <td>NSW</td>\n",
       "      <td>Australia</td>\n",
       "      <td>8</td>\n",
       "      <td>840</td>\n",
       "      <td>0.571094</td>\n",
       "    </tr>\n",
       "    <tr>\n",
       "      <th>849</th>\n",
       "      <td>Leeland</td>\n",
       "      <td>None</td>\n",
       "      <td>Male</td>\n",
       "      <td>66</td>\n",
       "      <td>1957-01-24</td>\n",
       "      <td>VP Quality Control</td>\n",
       "      <td>Telecommunications</td>\n",
       "      <td>High Net Worth</td>\n",
       "      <td>N</td>\n",
       "      <td>No</td>\n",
       "      <td>12</td>\n",
       "      <td>9 Stephen Center</td>\n",
       "      <td>4122</td>\n",
       "      <td>QLD</td>\n",
       "      <td>Australia</td>\n",
       "      <td>4</td>\n",
       "      <td>845</td>\n",
       "      <td>0.563125</td>\n",
       "    </tr>\n",
       "    <tr>\n",
       "      <th>888</th>\n",
       "      <td>Antoinette</td>\n",
       "      <td>None</td>\n",
       "      <td>Female</td>\n",
       "      <td>72</td>\n",
       "      <td>1980-07-28</td>\n",
       "      <td>Structural Analysis Engineer</td>\n",
       "      <td>Financial Services</td>\n",
       "      <td>Affluent Customer</td>\n",
       "      <td>N</td>\n",
       "      <td>No</td>\n",
       "      <td>5</td>\n",
       "      <td>9 Derek Alley</td>\n",
       "      <td>3058</td>\n",
       "      <td>VIC</td>\n",
       "      <td>Australia</td>\n",
       "      <td>9</td>\n",
       "      <td>888</td>\n",
       "      <td>0.525000</td>\n",
       "    </tr>\n",
       "    <tr>\n",
       "      <th>952</th>\n",
       "      <td>Candy</td>\n",
       "      <td>None</td>\n",
       "      <td>Female</td>\n",
       "      <td>23</td>\n",
       "      <td>1977-12-08</td>\n",
       "      <td>NaN</td>\n",
       "      <td>Financial Services</td>\n",
       "      <td>Mass Customer</td>\n",
       "      <td>N</td>\n",
       "      <td>No</td>\n",
       "      <td>6</td>\n",
       "      <td>59252 Maryland Drive</td>\n",
       "      <td>3500</td>\n",
       "      <td>VIC</td>\n",
       "      <td>Australia</td>\n",
       "      <td>3</td>\n",
       "      <td>951</td>\n",
       "      <td>0.450500</td>\n",
       "    </tr>\n",
       "  </tbody>\n",
       "</table>\n",
       "</div>"
      ],
      "text/plain": [
       "     first_name last_name  gender  past_3_years_bike_related_purchases  \\\n",
       "12         Olag      None    Male                                   60   \n",
       "58    Whittaker      None    Male                                   64   \n",
       "87     Kahaleel      None    Male                                    5   \n",
       "155        Bill      None  Female                                   74   \n",
       "202        Glyn      None    Male                                   47   \n",
       "326     Haleigh      None  Female                                   17   \n",
       "330        Alon      None    Male                                   17   \n",
       "357        Otis      None    Male                                   59   \n",
       "419     Sherill      None  Female                                   33   \n",
       "442   Theresina      None  Female                                   30   \n",
       "455     Laurena      None  Female                                   21   \n",
       "474      Laurie      None    Male                                   31   \n",
       "477     Blondie      None  Female                                   43   \n",
       "484      Georgi      None    Male                                   29   \n",
       "487      Lucien      None    Male                                   83   \n",
       "494        Park      None    Male                                   39   \n",
       "502    Cariotta      None  Female                                   10   \n",
       "531      Amabel      None  Female                                   71   \n",
       "586     Raynard      None    Male                                   32   \n",
       "616    Mariette      None  Female                                   47   \n",
       "755        Darb      None    Male                                   80   \n",
       "767   Simonette      None  Female                                    4   \n",
       "779    Ashleigh      None  Female                                   46   \n",
       "786         Fey      None  Female                                   48   \n",
       "813      Dmitri      None    Male                                   72   \n",
       "839      Ginger      None    Male                                   94   \n",
       "849     Leeland      None    Male                                   66   \n",
       "888  Antoinette      None  Female                                   72   \n",
       "952       Candy      None  Female                                   23   \n",
       "\n",
       "           DOB                      job_title job_industry_category  \\\n",
       "12  1990-05-13        Human Resources Manager    Telecommunications   \n",
       "58  1966-07-29              Media Manager III                   NaN   \n",
       "87  1942-11-01        GIS Technical Architect                   NaN   \n",
       "155 1963-04-24   Human Resources Assistant II              Property   \n",
       "202 1945-02-13                General Manager         Manufacturing   \n",
       "326 1952-05-19         Senior Sales Associate    Financial Services   \n",
       "330 1999-06-23                  Accountant IV                   NaN   \n",
       "357 1971-01-11            Electrical Engineer         Manufacturing   \n",
       "419 1991-12-18    Information Systems Manager    Financial Services   \n",
       "442 1987-03-01                General Manager           Argiculture   \n",
       "455 1961-07-31                       VP Sales                   NaN   \n",
       "474 1979-07-28        Assistant Media Planner         Entertainment   \n",
       "477 1995-10-03                        Actuary    Financial Services   \n",
       "484 1970-01-14              Assistant Manager         Manufacturing   \n",
       "487 1966-09-14                            NaN    Financial Services   \n",
       "494 1977-11-08             Nurse Practicioner                    IT   \n",
       "502 1974-08-19        Assistant Media Planner         Entertainment   \n",
       "531 1981-09-14          Chief Design Engineer    Financial Services   \n",
       "586 1996-04-13               Statistician III                Health   \n",
       "616 1956-07-05                  Programmer II              Property   \n",
       "755 1969-06-04                   Food Chemist                Health   \n",
       "767 1990-04-06          VP Product Management         Manufacturing   \n",
       "779 1996-04-05  Budget/Accounting Analyst III                   NaN   \n",
       "786 1957-09-04                 Research Nurse                Health   \n",
       "813 1991-02-06                            NaN    Financial Services   \n",
       "839 1939-02-19        Human Resources Manager                   NaN   \n",
       "849 1957-01-24             VP Quality Control    Telecommunications   \n",
       "888 1980-07-28   Structural Analysis Engineer    Financial Services   \n",
       "952 1977-12-08                            NaN    Financial Services   \n",
       "\n",
       "        wealth_segment deceased_indicator owns_car  tenure  \\\n",
       "12       Mass Customer                  N       No       9   \n",
       "58       Mass Customer                  N      Yes       8   \n",
       "87      High Net Worth                  N       No      13   \n",
       "155      Mass Customer                  N      Yes      19   \n",
       "202  Affluent Customer                  N      Yes      21   \n",
       "326      Mass Customer                  N      Yes      18   \n",
       "330  Affluent Customer                  N       No       9   \n",
       "357  Affluent Customer                  N       No      12   \n",
       "419      Mass Customer                  N       No       3   \n",
       "442      Mass Customer                  N      Yes      14   \n",
       "455     High Net Worth                  N       No      10   \n",
       "474      Mass Customer                  N      Yes      15   \n",
       "477     High Net Worth                  N       No      11   \n",
       "484     High Net Worth                  N       No      11   \n",
       "487     High Net Worth                  N      Yes      19   \n",
       "494  Affluent Customer                  N       No      14   \n",
       "502  Affluent Customer                  N      Yes      17   \n",
       "531      Mass Customer                  N      Yes       9   \n",
       "586  Affluent Customer                  N       No      14   \n",
       "616  Affluent Customer                  N      Yes      17   \n",
       "755  Affluent Customer                  N       No      10   \n",
       "767  Affluent Customer                  N      Yes       6   \n",
       "779      Mass Customer                  N      Yes       6   \n",
       "786     High Net Worth                  N      Yes      11   \n",
       "813     High Net Worth                  N      Yes      15   \n",
       "839      Mass Customer                  N       No      11   \n",
       "849     High Net Worth                  N       No      12   \n",
       "888  Affluent Customer                  N       No       5   \n",
       "952      Mass Customer                  N       No       6   \n",
       "\n",
       "                      address  postcode state    country  property_valuation  \\\n",
       "12          0484 North Avenue      2032   NSW  Australia                  11   \n",
       "58           683 Florence Way      3156   VIC  Australia                   5   \n",
       "87           12 Arapahoe Park      2035   NSW  Australia                  12   \n",
       "155       6704 Pine View Lane      2170   NSW  Australia                   9   \n",
       "202          67 Bluejay Plaza      2300   NSW  Australia                   9   \n",
       "326             49 Jana Point      4503   QLD  Australia                   4   \n",
       "330    770 Crest Line Parkway      4218   QLD  Australia                   3   \n",
       "357         04 Oakridge Plaza      2075   NSW  Australia                  11   \n",
       "419         53 Moulton Avenue      2880   NSW  Australia                   1   \n",
       "442        253 Katie Junction      2650   NSW  Australia                   2   \n",
       "455  7 Messerschmidt Crossing      3810   VIC  Australia                   6   \n",
       "474             94 Barby Lane      2210   NSW  Australia                  10   \n",
       "477     780 Norway Maple Hill      2565   NSW  Australia                   8   \n",
       "484       59 Garrison Terrace      3215   VIC  Australia                   4   \n",
       "487       777 Fairfield Court      4305   QLD  Australia                   3   \n",
       "494             07 Boyd Drive      4350   QLD  Australia                   7   \n",
       "502    2336 Continental Point      2527   NSW  Australia                   7   \n",
       "531         3128 Mallory Pass      2144   NSW  Australia                   6   \n",
       "586        20187 Loomis Court      4132   QLD  Australia                   6   \n",
       "616          770 Farmco Point      2049   NSW  Australia                  11   \n",
       "755           780 Bonner Pass      4034   QLD  Australia                   5   \n",
       "767          66 Hoffman Court      2232   NSW  Australia                   8   \n",
       "779           922 Utah Avenue      3204   VIC  Australia                  12   \n",
       "786             77 Paget Park      3147   VIC  Australia                  12   \n",
       "813            4 Mallory Pass      3690   VIC  Australia                   4   \n",
       "839         160 Fremont Point      2259   NSW  Australia                   8   \n",
       "849          9 Stephen Center      4122   QLD  Australia                   4   \n",
       "888             9 Derek Alley      3058   VIC  Australia                   9   \n",
       "952      59252 Maryland Drive      3500   VIC  Australia                   3   \n",
       "\n",
       "     Rank     Value  \n",
       "12     13  1.609375  \n",
       "58     57  1.375000  \n",
       "87     88  1.314844  \n",
       "155   155  1.200000  \n",
       "202   202  1.140625  \n",
       "326   326  1.009375  \n",
       "330   329  1.000000  \n",
       "357   358  0.980000  \n",
       "419   420  0.913750  \n",
       "442   441  0.901000  \n",
       "455   455  0.892500  \n",
       "474   475  0.881875  \n",
       "477   478  0.880000  \n",
       "484   485  0.875500  \n",
       "487   486  0.875000  \n",
       "494   495  0.863281  \n",
       "502   502  0.858500  \n",
       "531   530  0.828750  \n",
       "586   587  0.786250  \n",
       "616   617  0.754375  \n",
       "755   755  0.640000  \n",
       "767   760  0.637500  \n",
       "779   780  0.624219  \n",
       "786   786  0.616250  \n",
       "813   810  0.587500  \n",
       "839   840  0.571094  \n",
       "849   845  0.563125  \n",
       "888   888  0.525000  \n",
       "952   951  0.450500  "
      ]
     },
     "execution_count": 12,
     "metadata": {},
     "output_type": "execute_result"
    }
   ],
   "source": [
    "new_cust['last_name'].fillna(\"None\",axis=0,inplace=True)\n",
    "new_cust[new_cust['last_name']==\"None\"]"
   ]
  },
  {
   "cell_type": "code",
   "execution_count": 13,
   "id": "bc07f6a2",
   "metadata": {},
   "outputs": [
    {
     "data": {
      "text/plain": [
       "0"
      ]
     },
     "execution_count": 13,
     "metadata": {},
     "output_type": "execute_result"
    }
   ],
   "source": [
    "new_cust[\"last_name\"].isnull().sum()"
   ]
  },
  {
   "cell_type": "markdown",
   "id": "ba008e0b",
   "metadata": {},
   "source": [
    "As you can see now there is no null values in the last_name"
   ]
  },
  {
   "cell_type": "markdown",
   "id": "7ff85ff0",
   "metadata": {},
   "source": [
    "## 2.2 Date of Birth"
   ]
  },
  {
   "cell_type": "code",
   "execution_count": 14,
   "id": "389ce742",
   "metadata": {},
   "outputs": [
    {
     "data": {
      "text/html": [
       "<div>\n",
       "<style scoped>\n",
       "    .dataframe tbody tr th:only-of-type {\n",
       "        vertical-align: middle;\n",
       "    }\n",
       "\n",
       "    .dataframe tbody tr th {\n",
       "        vertical-align: top;\n",
       "    }\n",
       "\n",
       "    .dataframe thead th {\n",
       "        text-align: right;\n",
       "    }\n",
       "</style>\n",
       "<table border=\"1\" class=\"dataframe\">\n",
       "  <thead>\n",
       "    <tr style=\"text-align: right;\">\n",
       "      <th></th>\n",
       "      <th>first_name</th>\n",
       "      <th>last_name</th>\n",
       "      <th>gender</th>\n",
       "      <th>past_3_years_bike_related_purchases</th>\n",
       "      <th>DOB</th>\n",
       "      <th>job_title</th>\n",
       "      <th>job_industry_category</th>\n",
       "      <th>wealth_segment</th>\n",
       "      <th>deceased_indicator</th>\n",
       "      <th>owns_car</th>\n",
       "      <th>tenure</th>\n",
       "      <th>address</th>\n",
       "      <th>postcode</th>\n",
       "      <th>state</th>\n",
       "      <th>country</th>\n",
       "      <th>property_valuation</th>\n",
       "      <th>Rank</th>\n",
       "      <th>Value</th>\n",
       "    </tr>\n",
       "  </thead>\n",
       "  <tbody>\n",
       "    <tr>\n",
       "      <th>59</th>\n",
       "      <td>Normy</td>\n",
       "      <td>Goodinge</td>\n",
       "      <td>U</td>\n",
       "      <td>5</td>\n",
       "      <td>NaT</td>\n",
       "      <td>Associate Professor</td>\n",
       "      <td>IT</td>\n",
       "      <td>Mass Customer</td>\n",
       "      <td>N</td>\n",
       "      <td>No</td>\n",
       "      <td>4</td>\n",
       "      <td>7232 Fulton Parkway</td>\n",
       "      <td>3810</td>\n",
       "      <td>VIC</td>\n",
       "      <td>Australia</td>\n",
       "      <td>5</td>\n",
       "      <td>57</td>\n",
       "      <td>1.375000</td>\n",
       "    </tr>\n",
       "    <tr>\n",
       "      <th>226</th>\n",
       "      <td>Hatti</td>\n",
       "      <td>Carletti</td>\n",
       "      <td>U</td>\n",
       "      <td>35</td>\n",
       "      <td>NaT</td>\n",
       "      <td>Legal Assistant</td>\n",
       "      <td>IT</td>\n",
       "      <td>Affluent Customer</td>\n",
       "      <td>N</td>\n",
       "      <td>Yes</td>\n",
       "      <td>11</td>\n",
       "      <td>6 Iowa Center</td>\n",
       "      <td>2519</td>\n",
       "      <td>NSW</td>\n",
       "      <td>Australia</td>\n",
       "      <td>9</td>\n",
       "      <td>226</td>\n",
       "      <td>1.112500</td>\n",
       "    </tr>\n",
       "    <tr>\n",
       "      <th>324</th>\n",
       "      <td>Rozamond</td>\n",
       "      <td>Turtle</td>\n",
       "      <td>U</td>\n",
       "      <td>69</td>\n",
       "      <td>NaT</td>\n",
       "      <td>Legal Assistant</td>\n",
       "      <td>IT</td>\n",
       "      <td>Mass Customer</td>\n",
       "      <td>N</td>\n",
       "      <td>Yes</td>\n",
       "      <td>3</td>\n",
       "      <td>57025 New Castle Street</td>\n",
       "      <td>3850</td>\n",
       "      <td>VIC</td>\n",
       "      <td>Australia</td>\n",
       "      <td>3</td>\n",
       "      <td>324</td>\n",
       "      <td>1.010000</td>\n",
       "    </tr>\n",
       "    <tr>\n",
       "      <th>358</th>\n",
       "      <td>Tamas</td>\n",
       "      <td>Swatman</td>\n",
       "      <td>U</td>\n",
       "      <td>65</td>\n",
       "      <td>NaT</td>\n",
       "      <td>Assistant Media Planner</td>\n",
       "      <td>Entertainment</td>\n",
       "      <td>Affluent Customer</td>\n",
       "      <td>N</td>\n",
       "      <td>No</td>\n",
       "      <td>5</td>\n",
       "      <td>78 Clarendon Drive</td>\n",
       "      <td>4551</td>\n",
       "      <td>QLD</td>\n",
       "      <td>Australia</td>\n",
       "      <td>8</td>\n",
       "      <td>358</td>\n",
       "      <td>0.980000</td>\n",
       "    </tr>\n",
       "    <tr>\n",
       "      <th>360</th>\n",
       "      <td>Tracy</td>\n",
       "      <td>Andrejevic</td>\n",
       "      <td>U</td>\n",
       "      <td>71</td>\n",
       "      <td>NaT</td>\n",
       "      <td>Programmer II</td>\n",
       "      <td>IT</td>\n",
       "      <td>Mass Customer</td>\n",
       "      <td>N</td>\n",
       "      <td>Yes</td>\n",
       "      <td>11</td>\n",
       "      <td>5675 Burning Wood Trail</td>\n",
       "      <td>3030</td>\n",
       "      <td>VIC</td>\n",
       "      <td>Australia</td>\n",
       "      <td>7</td>\n",
       "      <td>361</td>\n",
       "      <td>0.977500</td>\n",
       "    </tr>\n",
       "    <tr>\n",
       "      <th>374</th>\n",
       "      <td>Agneta</td>\n",
       "      <td>McAmish</td>\n",
       "      <td>U</td>\n",
       "      <td>66</td>\n",
       "      <td>NaT</td>\n",
       "      <td>Structural Analysis Engineer</td>\n",
       "      <td>IT</td>\n",
       "      <td>Mass Customer</td>\n",
       "      <td>N</td>\n",
       "      <td>No</td>\n",
       "      <td>15</td>\n",
       "      <td>5773 Acker Way</td>\n",
       "      <td>4207</td>\n",
       "      <td>QLD</td>\n",
       "      <td>Australia</td>\n",
       "      <td>6</td>\n",
       "      <td>375</td>\n",
       "      <td>0.960000</td>\n",
       "    </tr>\n",
       "    <tr>\n",
       "      <th>434</th>\n",
       "      <td>Gregg</td>\n",
       "      <td>Aimeric</td>\n",
       "      <td>U</td>\n",
       "      <td>52</td>\n",
       "      <td>NaT</td>\n",
       "      <td>Internal Auditor</td>\n",
       "      <td>IT</td>\n",
       "      <td>Mass Customer</td>\n",
       "      <td>N</td>\n",
       "      <td>No</td>\n",
       "      <td>7</td>\n",
       "      <td>72423 Surrey Street</td>\n",
       "      <td>3753</td>\n",
       "      <td>VIC</td>\n",
       "      <td>Australia</td>\n",
       "      <td>5</td>\n",
       "      <td>433</td>\n",
       "      <td>0.906250</td>\n",
       "    </tr>\n",
       "    <tr>\n",
       "      <th>439</th>\n",
       "      <td>Johna</td>\n",
       "      <td>Bunker</td>\n",
       "      <td>U</td>\n",
       "      <td>93</td>\n",
       "      <td>NaT</td>\n",
       "      <td>Tax Accountant</td>\n",
       "      <td>IT</td>\n",
       "      <td>Mass Customer</td>\n",
       "      <td>N</td>\n",
       "      <td>Yes</td>\n",
       "      <td>14</td>\n",
       "      <td>3686 Waubesa Way</td>\n",
       "      <td>3065</td>\n",
       "      <td>VIC</td>\n",
       "      <td>Australia</td>\n",
       "      <td>6</td>\n",
       "      <td>436</td>\n",
       "      <td>0.903125</td>\n",
       "    </tr>\n",
       "    <tr>\n",
       "      <th>574</th>\n",
       "      <td>Harlene</td>\n",
       "      <td>Nono</td>\n",
       "      <td>U</td>\n",
       "      <td>69</td>\n",
       "      <td>NaT</td>\n",
       "      <td>Human Resources Manager</td>\n",
       "      <td>IT</td>\n",
       "      <td>Mass Customer</td>\n",
       "      <td>N</td>\n",
       "      <td>No</td>\n",
       "      <td>12</td>\n",
       "      <td>0307 Namekagon Crossing</td>\n",
       "      <td>2170</td>\n",
       "      <td>NSW</td>\n",
       "      <td>Australia</td>\n",
       "      <td>7</td>\n",
       "      <td>575</td>\n",
       "      <td>0.796875</td>\n",
       "    </tr>\n",
       "    <tr>\n",
       "      <th>598</th>\n",
       "      <td>Gerianne</td>\n",
       "      <td>Kaysor</td>\n",
       "      <td>U</td>\n",
       "      <td>15</td>\n",
       "      <td>NaT</td>\n",
       "      <td>Project Manager</td>\n",
       "      <td>IT</td>\n",
       "      <td>Affluent Customer</td>\n",
       "      <td>N</td>\n",
       "      <td>No</td>\n",
       "      <td>5</td>\n",
       "      <td>882 Toban Lane</td>\n",
       "      <td>2121</td>\n",
       "      <td>NSW</td>\n",
       "      <td>Australia</td>\n",
       "      <td>11</td>\n",
       "      <td>599</td>\n",
       "      <td>0.775000</td>\n",
       "    </tr>\n",
       "    <tr>\n",
       "      <th>664</th>\n",
       "      <td>Chicky</td>\n",
       "      <td>Sinclar</td>\n",
       "      <td>U</td>\n",
       "      <td>43</td>\n",
       "      <td>NaT</td>\n",
       "      <td>Operator</td>\n",
       "      <td>IT</td>\n",
       "      <td>High Net Worth</td>\n",
       "      <td>N</td>\n",
       "      <td>Yes</td>\n",
       "      <td>0</td>\n",
       "      <td>5 Red Cloud Place</td>\n",
       "      <td>3222</td>\n",
       "      <td>VIC</td>\n",
       "      <td>Australia</td>\n",
       "      <td>4</td>\n",
       "      <td>662</td>\n",
       "      <td>0.711875</td>\n",
       "    </tr>\n",
       "    <tr>\n",
       "      <th>751</th>\n",
       "      <td>Adriana</td>\n",
       "      <td>Saundercock</td>\n",
       "      <td>U</td>\n",
       "      <td>20</td>\n",
       "      <td>NaT</td>\n",
       "      <td>Nurse</td>\n",
       "      <td>IT</td>\n",
       "      <td>High Net Worth</td>\n",
       "      <td>N</td>\n",
       "      <td>Yes</td>\n",
       "      <td>14</td>\n",
       "      <td>82 Gina Junction</td>\n",
       "      <td>3806</td>\n",
       "      <td>VIC</td>\n",
       "      <td>Australia</td>\n",
       "      <td>7</td>\n",
       "      <td>751</td>\n",
       "      <td>0.648125</td>\n",
       "    </tr>\n",
       "    <tr>\n",
       "      <th>775</th>\n",
       "      <td>Dmitri</td>\n",
       "      <td>Viant</td>\n",
       "      <td>U</td>\n",
       "      <td>62</td>\n",
       "      <td>NaT</td>\n",
       "      <td>Paralegal</td>\n",
       "      <td>Financial Services</td>\n",
       "      <td>Affluent Customer</td>\n",
       "      <td>N</td>\n",
       "      <td>No</td>\n",
       "      <td>5</td>\n",
       "      <td>95960 Warner Parkway</td>\n",
       "      <td>3842</td>\n",
       "      <td>VIC</td>\n",
       "      <td>Australia</td>\n",
       "      <td>1</td>\n",
       "      <td>774</td>\n",
       "      <td>0.626875</td>\n",
       "    </tr>\n",
       "    <tr>\n",
       "      <th>835</th>\n",
       "      <td>Porty</td>\n",
       "      <td>Hansed</td>\n",
       "      <td>U</td>\n",
       "      <td>88</td>\n",
       "      <td>NaT</td>\n",
       "      <td>General Manager</td>\n",
       "      <td>IT</td>\n",
       "      <td>Mass Customer</td>\n",
       "      <td>N</td>\n",
       "      <td>No</td>\n",
       "      <td>13</td>\n",
       "      <td>768 Southridge Drive</td>\n",
       "      <td>2112</td>\n",
       "      <td>NSW</td>\n",
       "      <td>Australia</td>\n",
       "      <td>11</td>\n",
       "      <td>832</td>\n",
       "      <td>0.575000</td>\n",
       "    </tr>\n",
       "    <tr>\n",
       "      <th>883</th>\n",
       "      <td>Shara</td>\n",
       "      <td>Bramhill</td>\n",
       "      <td>U</td>\n",
       "      <td>24</td>\n",
       "      <td>NaT</td>\n",
       "      <td>NaN</td>\n",
       "      <td>IT</td>\n",
       "      <td>Affluent Customer</td>\n",
       "      <td>N</td>\n",
       "      <td>No</td>\n",
       "      <td>2</td>\n",
       "      <td>01 Bunker Hill Drive</td>\n",
       "      <td>2230</td>\n",
       "      <td>NSW</td>\n",
       "      <td>Australia</td>\n",
       "      <td>10</td>\n",
       "      <td>883</td>\n",
       "      <td>0.531250</td>\n",
       "    </tr>\n",
       "    <tr>\n",
       "      <th>904</th>\n",
       "      <td>Roth</td>\n",
       "      <td>Crum</td>\n",
       "      <td>U</td>\n",
       "      <td>0</td>\n",
       "      <td>NaT</td>\n",
       "      <td>Legal Assistant</td>\n",
       "      <td>IT</td>\n",
       "      <td>Mass Customer</td>\n",
       "      <td>N</td>\n",
       "      <td>No</td>\n",
       "      <td>2</td>\n",
       "      <td>276 Anthes Court</td>\n",
       "      <td>2450</td>\n",
       "      <td>NSW</td>\n",
       "      <td>Australia</td>\n",
       "      <td>6</td>\n",
       "      <td>904</td>\n",
       "      <td>0.500000</td>\n",
       "    </tr>\n",
       "    <tr>\n",
       "      <th>984</th>\n",
       "      <td>Pauline</td>\n",
       "      <td>Dallosso</td>\n",
       "      <td>U</td>\n",
       "      <td>82</td>\n",
       "      <td>NaT</td>\n",
       "      <td>Desktop Support Technician</td>\n",
       "      <td>IT</td>\n",
       "      <td>Affluent Customer</td>\n",
       "      <td>N</td>\n",
       "      <td>Yes</td>\n",
       "      <td>0</td>\n",
       "      <td>9594 Badeau Street</td>\n",
       "      <td>2050</td>\n",
       "      <td>NSW</td>\n",
       "      <td>Australia</td>\n",
       "      <td>10</td>\n",
       "      <td>985</td>\n",
       "      <td>0.408000</td>\n",
       "    </tr>\n",
       "  </tbody>\n",
       "</table>\n",
       "</div>"
      ],
      "text/plain": [
       "    first_name    last_name gender  past_3_years_bike_related_purchases DOB  \\\n",
       "59       Normy     Goodinge      U                                    5 NaT   \n",
       "226      Hatti     Carletti      U                                   35 NaT   \n",
       "324   Rozamond       Turtle      U                                   69 NaT   \n",
       "358      Tamas      Swatman      U                                   65 NaT   \n",
       "360      Tracy   Andrejevic      U                                   71 NaT   \n",
       "374     Agneta      McAmish      U                                   66 NaT   \n",
       "434      Gregg      Aimeric      U                                   52 NaT   \n",
       "439      Johna       Bunker      U                                   93 NaT   \n",
       "574    Harlene         Nono      U                                   69 NaT   \n",
       "598   Gerianne       Kaysor      U                                   15 NaT   \n",
       "664     Chicky      Sinclar      U                                   43 NaT   \n",
       "751    Adriana  Saundercock      U                                   20 NaT   \n",
       "775     Dmitri        Viant      U                                   62 NaT   \n",
       "835      Porty       Hansed      U                                   88 NaT   \n",
       "883      Shara     Bramhill      U                                   24 NaT   \n",
       "904       Roth         Crum      U                                    0 NaT   \n",
       "984    Pauline     Dallosso      U                                   82 NaT   \n",
       "\n",
       "                        job_title job_industry_category     wealth_segment  \\\n",
       "59            Associate Professor                    IT      Mass Customer   \n",
       "226               Legal Assistant                    IT  Affluent Customer   \n",
       "324               Legal Assistant                    IT      Mass Customer   \n",
       "358       Assistant Media Planner         Entertainment  Affluent Customer   \n",
       "360                 Programmer II                    IT      Mass Customer   \n",
       "374  Structural Analysis Engineer                    IT      Mass Customer   \n",
       "434              Internal Auditor                    IT      Mass Customer   \n",
       "439                Tax Accountant                    IT      Mass Customer   \n",
       "574       Human Resources Manager                    IT      Mass Customer   \n",
       "598               Project Manager                    IT  Affluent Customer   \n",
       "664                      Operator                    IT     High Net Worth   \n",
       "751                         Nurse                    IT     High Net Worth   \n",
       "775                     Paralegal    Financial Services  Affluent Customer   \n",
       "835               General Manager                    IT      Mass Customer   \n",
       "883                           NaN                    IT  Affluent Customer   \n",
       "904               Legal Assistant                    IT      Mass Customer   \n",
       "984    Desktop Support Technician                    IT  Affluent Customer   \n",
       "\n",
       "    deceased_indicator owns_car  tenure                  address  postcode  \\\n",
       "59                   N       No       4      7232 Fulton Parkway      3810   \n",
       "226                  N      Yes      11            6 Iowa Center      2519   \n",
       "324                  N      Yes       3  57025 New Castle Street      3850   \n",
       "358                  N       No       5       78 Clarendon Drive      4551   \n",
       "360                  N      Yes      11  5675 Burning Wood Trail      3030   \n",
       "374                  N       No      15           5773 Acker Way      4207   \n",
       "434                  N       No       7      72423 Surrey Street      3753   \n",
       "439                  N      Yes      14         3686 Waubesa Way      3065   \n",
       "574                  N       No      12  0307 Namekagon Crossing      2170   \n",
       "598                  N       No       5           882 Toban Lane      2121   \n",
       "664                  N      Yes       0        5 Red Cloud Place      3222   \n",
       "751                  N      Yes      14         82 Gina Junction      3806   \n",
       "775                  N       No       5     95960 Warner Parkway      3842   \n",
       "835                  N       No      13     768 Southridge Drive      2112   \n",
       "883                  N       No       2     01 Bunker Hill Drive      2230   \n",
       "904                  N       No       2         276 Anthes Court      2450   \n",
       "984                  N      Yes       0       9594 Badeau Street      2050   \n",
       "\n",
       "    state    country  property_valuation  Rank     Value  \n",
       "59    VIC  Australia                   5    57  1.375000  \n",
       "226   NSW  Australia                   9   226  1.112500  \n",
       "324   VIC  Australia                   3   324  1.010000  \n",
       "358   QLD  Australia                   8   358  0.980000  \n",
       "360   VIC  Australia                   7   361  0.977500  \n",
       "374   QLD  Australia                   6   375  0.960000  \n",
       "434   VIC  Australia                   5   433  0.906250  \n",
       "439   VIC  Australia                   6   436  0.903125  \n",
       "574   NSW  Australia                   7   575  0.796875  \n",
       "598   NSW  Australia                  11   599  0.775000  \n",
       "664   VIC  Australia                   4   662  0.711875  \n",
       "751   VIC  Australia                   7   751  0.648125  \n",
       "775   VIC  Australia                   1   774  0.626875  \n",
       "835   NSW  Australia                  11   832  0.575000  \n",
       "883   NSW  Australia                  10   883  0.531250  \n",
       "904   NSW  Australia                   6   904  0.500000  \n",
       "984   NSW  Australia                  10   985  0.408000  "
      ]
     },
     "execution_count": 14,
     "metadata": {},
     "output_type": "execute_result"
    }
   ],
   "source": [
    "new_cust[new_cust[\"DOB\"].isnull()]"
   ]
  },
  {
   "cell_type": "code",
   "execution_count": 15,
   "id": "718d6622",
   "metadata": {},
   "outputs": [
    {
     "data": {
      "text/plain": [
       "2"
      ]
     },
     "execution_count": 15,
     "metadata": {},
     "output_type": "execute_result"
    }
   ],
   "source": [
    "round(new_cust['DOB'].isnull().mean()*100)"
   ]
  },
  {
   "cell_type": "markdown",
   "id": "48f6c0f3",
   "metadata": {},
   "source": [
    "It seems that there is 2% of data having null values in DOB column which is less than 5% which means we can drop that records"
   ]
  },
  {
   "cell_type": "markdown",
   "id": "7f3f6256",
   "metadata": {},
   "source": [
    "Getting the index value of the null values present in DOB column"
   ]
  },
  {
   "cell_type": "code",
   "execution_count": 16,
   "id": "754f60ea",
   "metadata": {},
   "outputs": [
    {
     "data": {
      "text/plain": [
       "Int64Index([ 59, 226, 324, 358, 360, 374, 434, 439, 574, 598, 664, 751, 775,\n",
       "            835, 883, 904, 984],\n",
       "           dtype='int64')"
      ]
     },
     "execution_count": 16,
     "metadata": {},
     "output_type": "execute_result"
    }
   ],
   "source": [
    "drop_dob_index = new_cust[new_cust['DOB'].isnull()].index\n",
    "\n",
    "drop_dob_index"
   ]
  },
  {
   "cell_type": "markdown",
   "id": "2df14416",
   "metadata": {},
   "source": [
    "Droping the records having null values"
   ]
  },
  {
   "cell_type": "code",
   "execution_count": 17,
   "id": "6648a965",
   "metadata": {},
   "outputs": [],
   "source": [
    "new_cust.drop(index=drop_dob_index,axis=0,inplace=True)"
   ]
  },
  {
   "cell_type": "code",
   "execution_count": 18,
   "id": "6a8c9f22",
   "metadata": {},
   "outputs": [
    {
     "data": {
      "text/plain": [
       "0"
      ]
     },
     "execution_count": 18,
     "metadata": {},
     "output_type": "execute_result"
    }
   ],
   "source": [
    "new_cust['DOB'].isnull().sum()"
   ]
  },
  {
   "cell_type": "markdown",
   "id": "4fa14872",
   "metadata": {},
   "source": [
    "Currently there is no missing values"
   ]
  },
  {
   "cell_type": "code",
   "execution_count": 19,
   "id": "569e73ab",
   "metadata": {},
   "outputs": [],
   "source": [
    "# Creating an age function to calculate the age of the customers.\n",
    "\n",
    "\n",
    "def age(born):\n",
    "    \n",
    "    today = date.today()\n",
    "    \n",
    "    return today.year - born.year - ((today.month, today.day) < (born.month, born.day))\n",
    "\n"
   ]
  },
  {
   "cell_type": "code",
   "execution_count": 20,
   "id": "af3c7593",
   "metadata": {},
   "outputs": [],
   "source": [
    " new_cust['Age'] = new_cust['DOB'].apply(age)"
   ]
  },
  {
   "cell_type": "markdown",
   "id": "eddd1e33",
   "metadata": {},
   "source": [
    "Descriptive Statistics of Age column"
   ]
  },
  {
   "cell_type": "code",
   "execution_count": 21,
   "id": "a2732571",
   "metadata": {},
   "outputs": [
    {
     "data": {
      "text/plain": [
       "count    983.000000\n",
       "mean      51.801628\n",
       "std       17.065715\n",
       "min       21.000000\n",
       "25%       40.000000\n",
       "50%       51.000000\n",
       "75%       65.000000\n",
       "max       85.000000\n",
       "Name: Age, dtype: float64"
      ]
     },
     "execution_count": 21,
     "metadata": {},
     "output_type": "execute_result"
    }
   ],
   "source": [
    "new_cust['Age'].describe()"
   ]
  },
  {
   "cell_type": "code",
   "execution_count": 22,
   "id": "a0df91c5",
   "metadata": {},
   "outputs": [
    {
     "data": {
      "text/plain": [
       "<seaborn.axisgrid.FacetGrid at 0x1f60ecafc40>"
      ]
     },
     "execution_count": 22,
     "metadata": {},
     "output_type": "execute_result"
    },
    {
     "data": {
      "text/plain": [
       "<Figure size 1500x800 with 0 Axes>"
      ]
     },
     "metadata": {},
     "output_type": "display_data"
    },
    {
     "data": {
      "image/png": "[encoded data removed]",
      "text/plain": [
       "<Figure size 500x500 with 1 Axes>"
      ]
     },
     "metadata": {},
     "output_type": "display_data"
    }
   ],
   "source": [
    "# Viz to find out the age distribution\n",
    "plt.figure(figsize=(15,8))\n",
    "sns.displot(new_cust['Age'],kde=True,bins=50)"
   ]
  },
  {
   "cell_type": "markdown",
   "id": "6a772f6e",
   "metadata": {},
   "source": [
    "<b> Looking at the age field seem that there is no discripency in the data <b>"
   ]
  },
  {
   "cell_type": "markdown",
   "id": "571ba5ca",
   "metadata": {},
   "source": [
    "### Creating Age Group Column"
   ]
  },
  {
   "cell_type": "code",
   "execution_count": 23,
   "id": "6d4629d1",
   "metadata": {},
   "outputs": [],
   "source": [
    "new_cust['Age Group'] = new_cust['Age'].apply(lambda x : (math.floor(x/10)+1)*10)"
   ]
  },
  {
   "cell_type": "code",
   "execution_count": 24,
   "id": "20991053",
   "metadata": {},
   "outputs": [
    {
     "data": {
      "text/plain": [
       "0      70\n",
       "1      60\n",
       "2      50\n",
       "3      50\n",
       "4      60\n",
       "       ..\n",
       "995    70\n",
       "996    30\n",
       "997    70\n",
       "998    80\n",
       "999    70\n",
       "Name: Age Group, Length: 983, dtype: int64"
      ]
     },
     "execution_count": 24,
     "metadata": {},
     "output_type": "execute_result"
    }
   ],
   "source": [
    "new_cust['Age Group']"
   ]
  },
  {
   "cell_type": "code",
   "execution_count": 25,
   "id": "8fe60e0c",
   "metadata": {},
   "outputs": [
    {
     "data": {
      "text/plain": [
       "<seaborn.axisgrid.FacetGrid at 0x1f60ec544f0>"
      ]
     },
     "execution_count": 25,
     "metadata": {},
     "output_type": "execute_result"
    },
    {
     "data": {
      "text/plain": [
       "<Figure size 1000x800 with 0 Axes>"
      ]
     },
     "metadata": {},
     "output_type": "display_data"
    },
    {
     "data": {
      "image/png": "[encoded data removed]",
      "text/plain": [
       "<Figure size 500x500 with 1 Axes>"
      ]
     },
     "metadata": {},
     "output_type": "display_data"
    }
   ],
   "source": [
    "# Viz to find out the Age Group Distribution\n",
    "plt.figure(figsize=(10,8))\n",
    "sns.displot(new_cust['Age Group'],kde=False,bins=50)"
   ]
  },
  {
   "cell_type": "markdown",
   "id": "e3907f7b",
   "metadata": {},
   "source": [
    "### 2.3 Job Title"
   ]
  },
  {
   "cell_type": "code",
   "execution_count": 26,
   "id": "537bdf0f",
   "metadata": {},
   "outputs": [
    {
     "data": {
      "text/html": [
       "<div>\n",
       "<style scoped>\n",
       "    .dataframe tbody tr th:only-of-type {\n",
       "        vertical-align: middle;\n",
       "    }\n",
       "\n",
       "    .dataframe tbody tr th {\n",
       "        vertical-align: top;\n",
       "    }\n",
       "\n",
       "    .dataframe thead th {\n",
       "        text-align: right;\n",
       "    }\n",
       "</style>\n",
       "<table border=\"1\" class=\"dataframe\">\n",
       "  <thead>\n",
       "    <tr style=\"text-align: right;\">\n",
       "      <th></th>\n",
       "      <th>first_name</th>\n",
       "      <th>last_name</th>\n",
       "      <th>gender</th>\n",
       "      <th>past_3_years_bike_related_purchases</th>\n",
       "      <th>DOB</th>\n",
       "      <th>job_title</th>\n",
       "      <th>job_industry_category</th>\n",
       "      <th>wealth_segment</th>\n",
       "      <th>deceased_indicator</th>\n",
       "      <th>owns_car</th>\n",
       "      <th>tenure</th>\n",
       "      <th>address</th>\n",
       "      <th>postcode</th>\n",
       "      <th>state</th>\n",
       "      <th>country</th>\n",
       "      <th>property_valuation</th>\n",
       "      <th>Rank</th>\n",
       "      <th>Value</th>\n",
       "      <th>Age</th>\n",
       "      <th>Age Group</th>\n",
       "    </tr>\n",
       "  </thead>\n",
       "  <tbody>\n",
       "    <tr>\n",
       "      <th>15</th>\n",
       "      <td>Dukie</td>\n",
       "      <td>Swire</td>\n",
       "      <td>Male</td>\n",
       "      <td>88</td>\n",
       "      <td>1954-03-31</td>\n",
       "      <td>NaN</td>\n",
       "      <td>Manufacturing</td>\n",
       "      <td>Affluent Customer</td>\n",
       "      <td>N</td>\n",
       "      <td>Yes</td>\n",
       "      <td>5</td>\n",
       "      <td>64 Granby Parkway</td>\n",
       "      <td>2500</td>\n",
       "      <td>NSW</td>\n",
       "      <td>Australia</td>\n",
       "      <td>8</td>\n",
       "      <td>16</td>\n",
       "      <td>1.562500</td>\n",
       "      <td>69</td>\n",
       "      <td>70</td>\n",
       "    </tr>\n",
       "    <tr>\n",
       "      <th>25</th>\n",
       "      <td>Rourke</td>\n",
       "      <td>Gillbard</td>\n",
       "      <td>Male</td>\n",
       "      <td>11</td>\n",
       "      <td>1945-08-03</td>\n",
       "      <td>NaN</td>\n",
       "      <td>Property</td>\n",
       "      <td>Mass Customer</td>\n",
       "      <td>N</td>\n",
       "      <td>No</td>\n",
       "      <td>17</td>\n",
       "      <td>75 Cordelia Trail</td>\n",
       "      <td>4817</td>\n",
       "      <td>QLD</td>\n",
       "      <td>Australia</td>\n",
       "      <td>4</td>\n",
       "      <td>26</td>\n",
       "      <td>1.468750</td>\n",
       "      <td>78</td>\n",
       "      <td>80</td>\n",
       "    </tr>\n",
       "    <tr>\n",
       "      <th>29</th>\n",
       "      <td>Rhona</td>\n",
       "      <td>De Freyne</td>\n",
       "      <td>Female</td>\n",
       "      <td>45</td>\n",
       "      <td>1960-11-22</td>\n",
       "      <td>NaN</td>\n",
       "      <td>Health</td>\n",
       "      <td>High Net Worth</td>\n",
       "      <td>N</td>\n",
       "      <td>No</td>\n",
       "      <td>8</td>\n",
       "      <td>11184 East Drive</td>\n",
       "      <td>3056</td>\n",
       "      <td>VIC</td>\n",
       "      <td>Australia</td>\n",
       "      <td>10</td>\n",
       "      <td>30</td>\n",
       "      <td>1.460938</td>\n",
       "      <td>62</td>\n",
       "      <td>70</td>\n",
       "    </tr>\n",
       "    <tr>\n",
       "      <th>30</th>\n",
       "      <td>Sharron</td>\n",
       "      <td>Claibourn</td>\n",
       "      <td>Female</td>\n",
       "      <td>62</td>\n",
       "      <td>1980-01-26</td>\n",
       "      <td>NaN</td>\n",
       "      <td>Financial Services</td>\n",
       "      <td>High Net Worth</td>\n",
       "      <td>N</td>\n",
       "      <td>Yes</td>\n",
       "      <td>17</td>\n",
       "      <td>555 Hermina Avenue</td>\n",
       "      <td>2280</td>\n",
       "      <td>NSW</td>\n",
       "      <td>Australia</td>\n",
       "      <td>8</td>\n",
       "      <td>30</td>\n",
       "      <td>1.460938</td>\n",
       "      <td>43</td>\n",
       "      <td>50</td>\n",
       "    </tr>\n",
       "    <tr>\n",
       "      <th>37</th>\n",
       "      <td>Mitchell</td>\n",
       "      <td>MacCague</td>\n",
       "      <td>Male</td>\n",
       "      <td>58</td>\n",
       "      <td>1979-04-11</td>\n",
       "      <td>NaN</td>\n",
       "      <td>Manufacturing</td>\n",
       "      <td>Mass Customer</td>\n",
       "      <td>N</td>\n",
       "      <td>No</td>\n",
       "      <td>15</td>\n",
       "      <td>240 Acker Avenue</td>\n",
       "      <td>3190</td>\n",
       "      <td>VIC</td>\n",
       "      <td>Australia</td>\n",
       "      <td>8</td>\n",
       "      <td>38</td>\n",
       "      <td>1.437500</td>\n",
       "      <td>44</td>\n",
       "      <td>50</td>\n",
       "    </tr>\n",
       "    <tr>\n",
       "      <th>...</th>\n",
       "      <td>...</td>\n",
       "      <td>...</td>\n",
       "      <td>...</td>\n",
       "      <td>...</td>\n",
       "      <td>...</td>\n",
       "      <td>...</td>\n",
       "      <td>...</td>\n",
       "      <td>...</td>\n",
       "      <td>...</td>\n",
       "      <td>...</td>\n",
       "      <td>...</td>\n",
       "      <td>...</td>\n",
       "      <td>...</td>\n",
       "      <td>...</td>\n",
       "      <td>...</td>\n",
       "      <td>...</td>\n",
       "      <td>...</td>\n",
       "      <td>...</td>\n",
       "      <td>...</td>\n",
       "      <td>...</td>\n",
       "    </tr>\n",
       "    <tr>\n",
       "      <th>952</th>\n",
       "      <td>Candy</td>\n",
       "      <td>None</td>\n",
       "      <td>Female</td>\n",
       "      <td>23</td>\n",
       "      <td>1977-12-08</td>\n",
       "      <td>NaN</td>\n",
       "      <td>Financial Services</td>\n",
       "      <td>Mass Customer</td>\n",
       "      <td>N</td>\n",
       "      <td>No</td>\n",
       "      <td>6</td>\n",
       "      <td>59252 Maryland Drive</td>\n",
       "      <td>3500</td>\n",
       "      <td>VIC</td>\n",
       "      <td>Australia</td>\n",
       "      <td>3</td>\n",
       "      <td>951</td>\n",
       "      <td>0.450500</td>\n",
       "      <td>45</td>\n",
       "      <td>50</td>\n",
       "    </tr>\n",
       "    <tr>\n",
       "      <th>953</th>\n",
       "      <td>Noami</td>\n",
       "      <td>Cokly</td>\n",
       "      <td>Female</td>\n",
       "      <td>74</td>\n",
       "      <td>1962-09-17</td>\n",
       "      <td>NaN</td>\n",
       "      <td>Manufacturing</td>\n",
       "      <td>Mass Customer</td>\n",
       "      <td>N</td>\n",
       "      <td>Yes</td>\n",
       "      <td>15</td>\n",
       "      <td>2886 Buena Vista Terrace</td>\n",
       "      <td>2038</td>\n",
       "      <td>NSW</td>\n",
       "      <td>Australia</td>\n",
       "      <td>11</td>\n",
       "      <td>954</td>\n",
       "      <td>0.450000</td>\n",
       "      <td>60</td>\n",
       "      <td>70</td>\n",
       "    </tr>\n",
       "    <tr>\n",
       "      <th>971</th>\n",
       "      <td>Frieda</td>\n",
       "      <td>Tavinor</td>\n",
       "      <td>Female</td>\n",
       "      <td>43</td>\n",
       "      <td>1999-03-04</td>\n",
       "      <td>NaN</td>\n",
       "      <td>NaN</td>\n",
       "      <td>Affluent Customer</td>\n",
       "      <td>N</td>\n",
       "      <td>No</td>\n",
       "      <td>10</td>\n",
       "      <td>7 Mallory Lane</td>\n",
       "      <td>3064</td>\n",
       "      <td>VIC</td>\n",
       "      <td>Australia</td>\n",
       "      <td>6</td>\n",
       "      <td>972</td>\n",
       "      <td>0.430000</td>\n",
       "      <td>24</td>\n",
       "      <td>30</td>\n",
       "    </tr>\n",
       "    <tr>\n",
       "      <th>972</th>\n",
       "      <td>Ellwood</td>\n",
       "      <td>Budden</td>\n",
       "      <td>Male</td>\n",
       "      <td>82</td>\n",
       "      <td>1998-06-03</td>\n",
       "      <td>NaN</td>\n",
       "      <td>Health</td>\n",
       "      <td>Mass Customer</td>\n",
       "      <td>N</td>\n",
       "      <td>Yes</td>\n",
       "      <td>11</td>\n",
       "      <td>79907 Randy Center</td>\n",
       "      <td>2192</td>\n",
       "      <td>NSW</td>\n",
       "      <td>Australia</td>\n",
       "      <td>10</td>\n",
       "      <td>972</td>\n",
       "      <td>0.430000</td>\n",
       "      <td>25</td>\n",
       "      <td>30</td>\n",
       "    </tr>\n",
       "    <tr>\n",
       "      <th>989</th>\n",
       "      <td>Kellen</td>\n",
       "      <td>Pawelski</td>\n",
       "      <td>Female</td>\n",
       "      <td>83</td>\n",
       "      <td>1945-07-26</td>\n",
       "      <td>NaN</td>\n",
       "      <td>Manufacturing</td>\n",
       "      <td>High Net Worth</td>\n",
       "      <td>N</td>\n",
       "      <td>Yes</td>\n",
       "      <td>11</td>\n",
       "      <td>125 Manufacturers Parkway</td>\n",
       "      <td>2193</td>\n",
       "      <td>NSW</td>\n",
       "      <td>Australia</td>\n",
       "      <td>8</td>\n",
       "      <td>988</td>\n",
       "      <td>0.399500</td>\n",
       "      <td>78</td>\n",
       "      <td>80</td>\n",
       "    </tr>\n",
       "  </tbody>\n",
       "</table>\n",
       "<p>105 rows × 20 columns</p>\n",
       "</div>"
      ],
      "text/plain": [
       "    first_name  last_name  gender  past_3_years_bike_related_purchases  \\\n",
       "15       Dukie      Swire    Male                                   88   \n",
       "25      Rourke   Gillbard    Male                                   11   \n",
       "29       Rhona  De Freyne  Female                                   45   \n",
       "30     Sharron  Claibourn  Female                                   62   \n",
       "37    Mitchell   MacCague    Male                                   58   \n",
       "..         ...        ...     ...                                  ...   \n",
       "952      Candy       None  Female                                   23   \n",
       "953      Noami      Cokly  Female                                   74   \n",
       "971     Frieda    Tavinor  Female                                   43   \n",
       "972    Ellwood     Budden    Male                                   82   \n",
       "989     Kellen   Pawelski  Female                                   83   \n",
       "\n",
       "           DOB job_title job_industry_category     wealth_segment  \\\n",
       "15  1954-03-31       NaN         Manufacturing  Affluent Customer   \n",
       "25  1945-08-03       NaN              Property      Mass Customer   \n",
       "29  1960-11-22       NaN                Health     High Net Worth   \n",
       "30  1980-01-26       NaN    Financial Services     High Net Worth   \n",
       "37  1979-04-11       NaN         Manufacturing      Mass Customer   \n",
       "..         ...       ...                   ...                ...   \n",
       "952 1977-12-08       NaN    Financial Services      Mass Customer   \n",
       "953 1962-09-17       NaN         Manufacturing      Mass Customer   \n",
       "971 1999-03-04       NaN                   NaN  Affluent Customer   \n",
       "972 1998-06-03       NaN                Health      Mass Customer   \n",
       "989 1945-07-26       NaN         Manufacturing     High Net Worth   \n",
       "\n",
       "    deceased_indicator owns_car  tenure                    address  postcode  \\\n",
       "15                   N      Yes       5          64 Granby Parkway      2500   \n",
       "25                   N       No      17          75 Cordelia Trail      4817   \n",
       "29                   N       No       8           11184 East Drive      3056   \n",
       "30                   N      Yes      17         555 Hermina Avenue      2280   \n",
       "37                   N       No      15           240 Acker Avenue      3190   \n",
       "..                 ...      ...     ...                        ...       ...   \n",
       "952                  N       No       6       59252 Maryland Drive      3500   \n",
       "953                  N      Yes      15   2886 Buena Vista Terrace      2038   \n",
       "971                  N       No      10             7 Mallory Lane      3064   \n",
       "972                  N      Yes      11         79907 Randy Center      2192   \n",
       "989                  N      Yes      11  125 Manufacturers Parkway      2193   \n",
       "\n",
       "    state    country  property_valuation  Rank     Value  Age  Age Group  \n",
       "15    NSW  Australia                   8    16  1.562500   69         70  \n",
       "25    QLD  Australia                   4    26  1.468750   78         80  \n",
       "29    VIC  Australia                  10    30  1.460938   62         70  \n",
       "30    NSW  Australia                   8    30  1.460938   43         50  \n",
       "37    VIC  Australia                   8    38  1.437500   44         50  \n",
       "..    ...        ...                 ...   ...       ...  ...        ...  \n",
       "952   VIC  Australia                   3   951  0.450500   45         50  \n",
       "953   NSW  Australia                  11   954  0.450000   60         70  \n",
       "971   VIC  Australia                   6   972  0.430000   24         30  \n",
       "972   NSW  Australia                  10   972  0.430000   25         30  \n",
       "989   NSW  Australia                   8   988  0.399500   78         80  \n",
       "\n",
       "[105 rows x 20 columns]"
      ]
     },
     "execution_count": 26,
     "metadata": {},
     "output_type": "execute_result"
    }
   ],
   "source": [
    "new_cust[new_cust['job_title'].isnull()]"
   ]
  },
  {
   "cell_type": "markdown",
   "id": "483b03a3",
   "metadata": {},
   "source": [
    "<b> Since Percentage of missing values for Job Titles is 11%. We will replace null values with Missing. <b>"
   ]
  },
  {
   "cell_type": "code",
   "execution_count": 27,
   "id": "a6c53f28",
   "metadata": {},
   "outputs": [],
   "source": [
    "new_cust['job_title'].fillna('Missing', inplace=True,axis=0)"
   ]
  },
  {
   "cell_type": "code",
   "execution_count": 28,
   "id": "e312441a",
   "metadata": {},
   "outputs": [
    {
     "data": {
      "text/plain": [
       "0"
      ]
     },
     "execution_count": 28,
     "metadata": {},
     "output_type": "execute_result"
    }
   ],
   "source": [
    "new_cust['job_title'].isnull().sum()"
   ]
  },
  {
   "cell_type": "markdown",
   "id": "41128485",
   "metadata": {},
   "source": [
    "Currently there are no missing values for Job Title columns"
   ]
  },
  {
   "cell_type": "markdown",
   "id": "50f45757",
   "metadata": {},
   "source": [
    "### 2.4 Job Industry Category"
   ]
  },
  {
   "cell_type": "code",
   "execution_count": 29,
   "id": "d9ed7502",
   "metadata": {},
   "outputs": [
    {
     "data": {
      "text/plain": [
       "165"
      ]
     },
     "execution_count": 29,
     "metadata": {},
     "output_type": "execute_result"
    }
   ],
   "source": [
    "new_cust['job_industry_category'].isnull().sum()"
   ]
  },
  {
   "cell_type": "markdown",
   "id": "87e77292",
   "metadata": {},
   "source": [
    "Since Percentage of null values in Job Industry category is 16%, we can replace the value with Missing."
   ]
  },
  {
   "cell_type": "code",
   "execution_count": 30,
   "id": "e1428699",
   "metadata": {},
   "outputs": [],
   "source": [
    "new_cust['job_industry_category'].fillna('Missing',inplace=True,axis=0)"
   ]
  },
  {
   "cell_type": "code",
   "execution_count": 31,
   "id": "5dea9bbe",
   "metadata": {},
   "outputs": [
    {
     "data": {
      "text/plain": [
       "0"
      ]
     },
     "execution_count": 31,
     "metadata": {},
     "output_type": "execute_result"
    }
   ],
   "source": [
    "new_cust['job_industry_category'].isnull().sum()"
   ]
  },
  {
   "cell_type": "markdown",
   "id": "c37dfa92",
   "metadata": {},
   "source": [
    "Currently there are no missing values for Job Industry Category columns."
   ]
  },
  {
   "cell_type": "markdown",
   "id": "ba470aea",
   "metadata": {},
   "source": [
    "<b> Finally there are no Missing Values in the current dataset <b>"
   ]
  },
  {
   "cell_type": "code",
   "execution_count": 32,
   "id": "c3f9336a",
   "metadata": {},
   "outputs": [
    {
     "data": {
      "text/plain": [
       "first_name                             0\n",
       "last_name                              0\n",
       "gender                                 0\n",
       "past_3_years_bike_related_purchases    0\n",
       "DOB                                    0\n",
       "job_title                              0\n",
       "job_industry_category                  0\n",
       "wealth_segment                         0\n",
       "deceased_indicator                     0\n",
       "owns_car                               0\n",
       "tenure                                 0\n",
       "address                                0\n",
       "postcode                               0\n",
       "state                                  0\n",
       "country                                0\n",
       "property_valuation                     0\n",
       "Rank                                   0\n",
       "Value                                  0\n",
       "Age                                    0\n",
       "Age Group                              0\n",
       "dtype: int64"
      ]
     },
     "execution_count": 32,
     "metadata": {},
     "output_type": "execute_result"
    }
   ],
   "source": [
    "new_cust.isnull().sum()"
   ]
  },
  {
   "cell_type": "code",
   "execution_count": 33,
   "id": "557ae032",
   "metadata": {},
   "outputs": [
    {
     "name": "stdout",
     "output_type": "stream",
     "text": [
      "Total Number of records after removing Missing Values: 983\n"
     ]
    }
   ],
   "source": [
    "print(f\"Total Number of records after removing Missing Values: {new_cust.shape[0]}\")"
   ]
  },
  {
   "cell_type": "markdown",
   "id": "3ce1cbae",
   "metadata": {},
   "source": [
    "## 3 Check whether the Data is In-Consistency"
   ]
  },
  {
   "cell_type": "markdown",
   "id": "041837bd",
   "metadata": {},
   "source": [
    "We will check whether the data is In consistence / Typo error data is present in the categorical columns.<br>\n",
    "The Columns to checked are <b> 'gender', 'Wealth_segment', 'deceased_indicator','Owns_car' <b>"
   ]
  },
  {
   "cell_type": "markdown",
   "id": "974851de",
   "metadata": {},
   "source": [
    "### 3.1 Gender"
   ]
  },
  {
   "cell_type": "code",
   "execution_count": 34,
   "id": "59c3ffbd",
   "metadata": {},
   "outputs": [
    {
     "data": {
      "text/plain": [
       "Female    513\n",
       "Male      470\n",
       "Name: gender, dtype: int64"
      ]
     },
     "execution_count": 34,
     "metadata": {},
     "output_type": "execute_result"
    }
   ],
   "source": [
    "new_cust.gender.value_counts()"
   ]
  },
  {
   "cell_type": "markdown",
   "id": "531e93de",
   "metadata": {},
   "source": [
    "Seems that there is no inconsistence in Gender column"
   ]
  },
  {
   "cell_type": "markdown",
   "id": "9ca43055",
   "metadata": {},
   "source": [
    "### 3.2 Wealth Segment"
   ]
  },
  {
   "cell_type": "code",
   "execution_count": 35,
   "id": "a504b8ad",
   "metadata": {},
   "outputs": [
    {
     "data": {
      "text/plain": [
       "Mass Customer        499\n",
       "High Net Worth       249\n",
       "Affluent Customer    235\n",
       "Name: wealth_segment, dtype: int64"
      ]
     },
     "execution_count": 35,
     "metadata": {},
     "output_type": "execute_result"
    }
   ],
   "source": [
    "new_cust.wealth_segment.value_counts()"
   ]
  },
  {
   "cell_type": "markdown",
   "id": "c34484cc",
   "metadata": {},
   "source": [
    "Seems that there is no inconsistence in Wealth segment column."
   ]
  },
  {
   "cell_type": "markdown",
   "id": "c20422c8",
   "metadata": {},
   "source": [
    "### 3.3 Deceased Indicator"
   ]
  },
  {
   "cell_type": "code",
   "execution_count": 36,
   "id": "7a70e05f",
   "metadata": {},
   "outputs": [
    {
     "data": {
      "text/plain": [
       "N    983\n",
       "Name: deceased_indicator, dtype: int64"
      ]
     },
     "execution_count": 36,
     "metadata": {},
     "output_type": "execute_result"
    }
   ],
   "source": [
    "new_cust.deceased_indicator.value_counts()"
   ]
  },
  {
   "cell_type": "markdown",
   "id": "7b7a2a1f",
   "metadata": {},
   "source": [
    "Seems that there is no inconsistence in deceased_indicator column"
   ]
  },
  {
   "cell_type": "markdown",
   "id": "6bf5acf8",
   "metadata": {},
   "source": [
    "### 3.4 Owns a Car"
   ]
  },
  {
   "cell_type": "code",
   "execution_count": 37,
   "id": "e6a65015",
   "metadata": {},
   "outputs": [
    {
     "data": {
      "text/plain": [
       "No     497\n",
       "Yes    486\n",
       "Name: owns_car, dtype: int64"
      ]
     },
     "execution_count": 37,
     "metadata": {},
     "output_type": "execute_result"
    }
   ],
   "source": [
    "new_cust.owns_car.value_counts()"
   ]
  },
  {
   "cell_type": "markdown",
   "id": "7dc38890",
   "metadata": {},
   "source": [
    "Seems that there is no inconsistence in Owns a car"
   ]
  },
  {
   "cell_type": "markdown",
   "id": "a3f38382",
   "metadata": {},
   "source": [
    "### 3.5 State, Country"
   ]
  },
  {
   "cell_type": "code",
   "execution_count": 38,
   "id": "2f158ba3",
   "metadata": {},
   "outputs": [
    {
     "data": {
      "text/plain": [
       "NSW    499\n",
       "VIC    258\n",
       "QLD    226\n",
       "Name: state, dtype: int64"
      ]
     },
     "execution_count": 38,
     "metadata": {},
     "output_type": "execute_result"
    }
   ],
   "source": [
    "new_cust.state.value_counts()"
   ]
  },
  {
   "cell_type": "code",
   "execution_count": 39,
   "id": "b142bafb",
   "metadata": {},
   "outputs": [
    {
     "data": {
      "text/plain": [
       "Australia    983\n",
       "Name: country, dtype: int64"
      ]
     },
     "execution_count": 39,
     "metadata": {},
     "output_type": "execute_result"
    }
   ],
   "source": [
    "new_cust.country.value_counts()"
   ]
  },
  {
   "cell_type": "markdown",
   "id": "47685aea",
   "metadata": {},
   "source": [
    "### 3.6 Tenure"
   ]
  },
  {
   "cell_type": "code",
   "execution_count": 43,
   "id": "e7a49344",
   "metadata": {},
   "outputs": [
    {
     "data": {
      "text/plain": [
       "count    983.000000\n",
       "mean      11.459817\n",
       "std        5.006123\n",
       "min        1.000000\n",
       "25%        8.000000\n",
       "50%       11.000000\n",
       "75%       15.000000\n",
       "max       22.000000\n",
       "Name: tenure, dtype: float64"
      ]
     },
     "execution_count": 43,
     "metadata": {},
     "output_type": "execute_result"
    }
   ],
   "source": [
    "new_cust.tenure.describe()"
   ]
  },
  {
   "cell_type": "code",
   "execution_count": 49,
   "id": "134e1267",
   "metadata": {},
   "outputs": [
    {
     "name": "stderr",
     "output_type": "stream",
     "text": [
      "C:\\Users\\Rakesh Rao\\anaconda3\\lib\\site-packages\\seaborn\\distributions.py:2619: FutureWarning: `distplot` is a deprecated function and will be removed in a future version. Please adapt your code to use either `displot` (a figure-level function with similar flexibility) or `histplot` (an axes-level function for histograms).\n",
      "  warnings.warn(msg, FutureWarning)\n"
     ]
    },
    {
     "data": {
      "text/plain": [
       "<AxesSubplot:xlabel='tenure', ylabel='Density'>"
      ]
     },
     "execution_count": 49,
     "metadata": {},
     "output_type": "execute_result"
    },
    {
     "data": {
      "image/png": "[encoded data removed]",
      "text/plain": [
       "<Figure size 1500x800 with 1 Axes>"
      ]
     },
     "metadata": {},
     "output_type": "display_data"
    }
   ],
   "source": [
    "# Distribution of tenure\n",
    "\n",
    "plt.figure(figsize=(15,8))\n",
    "sns.distplot(new_cust.tenure)"
   ]
  },
  {
   "cell_type": "markdown",
   "id": "899365c6",
   "metadata": {},
   "source": [
    "# 4. Checking Duplicates"
   ]
  },
  {
   "cell_type": "markdown",
   "id": "bc934117",
   "metadata": {},
   "source": [
    "We need to ensure that there is no duplicate records in the dataset. This may lead to error in data analysis due to poor data qulity. If there are any duplicates then we need to drop the duplicates."
   ]
  },
  {
   "cell_type": "code",
   "execution_count": 50,
   "id": "50b0395e",
   "metadata": {},
   "outputs": [
    {
     "name": "stdout",
     "output_type": "stream",
     "text": [
      "Number of records in the Actual dataSet: 983\n",
      "Number of records after droppong the duplicates: 983\n"
     ]
    }
   ],
   "source": [
    "new_cust_dedupped = new_cust.drop_duplicates()\n",
    "\n",
    "print(f\"Number of records in the Actual dataSet: {new_cust.shape[0]}\")\n",
    "print(f\"Number of records after droppong the duplicates: {new_cust.shape[0]}\")"
   ]
  },
  {
   "cell_type": "markdown",
   "id": "06aae63c",
   "metadata": {},
   "source": [
    "Since the both the numbers are same. Seems that there is no Duplicate data in the dataset."
   ]
  },
  {
   "cell_type": "markdown",
   "id": "92d2be76",
   "metadata": {},
   "source": [
    "# 5. Exporting the Cleaned Data set to CSV."
   ]
  },
  {
   "cell_type": "code",
   "execution_count": 51,
   "id": "b6d424f5",
   "metadata": {},
   "outputs": [],
   "source": [
    "new_cust.to_csv(\"NewCustomerList_Cleaned.csv\",index=False)"
   ]
  },
  {
   "cell_type": "code",
   "execution_count": null,
   "id": "0b739f4d",
   "metadata": {},
   "outputs": [],
   "source": []
  },
  {
   "cell_type": "code",
   "execution_count": null,
   "id": "a9376886",
   "metadata": {},
   "outputs": [],
   "source": []
  },
  {
   "cell_type": "code",
   "execution_count": null,
   "id": "4ca46c96",
   "metadata": {},
   "outputs": [],
   "source": []
  },
  {
   "cell_type": "code",
   "execution_count": null,
   "id": "9ed5634b",
   "metadata": {},
   "outputs": [],
   "source": []
  },
  {
   "cell_type": "code",
   "execution_count": null,
   "id": "de1e1262",
   "metadata": {},
   "outputs": [],
   "source": []
  }
 ],
 "metadata": {
  "kernelspec": {
   "display_name": "Python 3 (ipykernel)",
   "language": "python",
   "name": "python3"
  },
  "language_info": {
   "codemirror_mode": {
    "name": "ipython",
    "version": 3
   },
   "file_extension": ".py",
   "mimetype": "text/x-python",
   "name": "python",
   "nbconvert_exporter": "python",
   "pygments_lexer": "ipython3",
   "version": "3.9.13"
  }
 },
 "nbformat": 4,
 "nbformat_minor": 5
}
